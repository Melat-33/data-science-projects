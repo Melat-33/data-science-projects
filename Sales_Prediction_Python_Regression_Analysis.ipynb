{
 "cells": [
  {
   "cell_type": "code",
   "execution_count": 1,
   "id": "b53fb108",
   "metadata": {},
   "outputs": [],
   "source": [
    "import numpy as np\n",
    "import pandas as pd\n",
    "import statsmodels.api as sm\n",
    "import matplotlib.pyplot as plt\n",
    "import seaborn as sns\n"
   ]
  },
  {
   "cell_type": "code",
   "execution_count": 2,
   "id": "119aa7b0",
   "metadata": {},
   "outputs": [],
   "source": [
    "from sklearn.preprocessing import StandardScaler\n",
    "from sklearn.decomposition import PCA\n",
    "from sklearn.linear_model import LinearRegression\n",
    "from sklearn.model_selection import train_test_split\n",
    "import scipy.stats as stats "
   ]
  },
  {
   "cell_type": "code",
   "execution_count": 3,
   "id": "def25793",
   "metadata": {},
   "outputs": [],
   "source": [
    "import warnings\n",
    "warnings.filterwarnings('ignore')"
   ]
  },
  {
   "cell_type": "code",
   "execution_count": 4,
   "id": "df2a0985",
   "metadata": {},
   "outputs": [],
   "source": [
    "df=pd.read_csv('sales.csv')"
   ]
  },
  {
   "cell_type": "code",
   "execution_count": 5,
   "id": "096bd8b4",
   "metadata": {
    "tags": []
   },
   "outputs": [
    {
     "data": {
      "text/plain": [
       "Index(['Store', 'Date', 'Weekly_Sales', 'Holiday_Flag', 'Temperature',\n",
       "       'Fuel_Price', 'CPI', 'Unemployment'],\n",
       "      dtype='object')"
      ]
     },
     "execution_count": 5,
     "metadata": {},
     "output_type": "execute_result"
    }
   ],
   "source": [
    "df.columns"
   ]
  },
  {
   "cell_type": "code",
   "execution_count": 6,
   "id": "253da78c",
   "metadata": {},
   "outputs": [
    {
     "data": {
      "text/plain": [
       "Store           0\n",
       "Date            0\n",
       "Weekly_Sales    0\n",
       "Holiday_Flag    0\n",
       "Temperature     0\n",
       "Fuel_Price      0\n",
       "CPI             0\n",
       "Unemployment    0\n",
       "dtype: int64"
      ]
     },
     "execution_count": 6,
     "metadata": {},
     "output_type": "execute_result"
    }
   ],
   "source": [
    "df.isnull().sum()"
   ]
  },
  {
   "cell_type": "code",
   "execution_count": 7,
   "id": "da684062",
   "metadata": {},
   "outputs": [
    {
     "data": {
      "text/plain": [
       "0"
      ]
     },
     "execution_count": 7,
     "metadata": {},
     "output_type": "execute_result"
    }
   ],
   "source": [
    "df.duplicated().sum()"
   ]
  },
  {
   "cell_type": "code",
   "execution_count": 8,
   "id": "01c4f055",
   "metadata": {},
   "outputs": [],
   "source": [
    "df_original = df.copy()"
   ]
  },
  {
   "cell_type": "code",
   "execution_count": 9,
   "id": "03d92327",
   "metadata": {},
   "outputs": [
    {
     "data": {
      "text/html": [
       "<div>\n",
       "<style scoped>\n",
       "    .dataframe tbody tr th:only-of-type {\n",
       "        vertical-align: middle;\n",
       "    }\n",
       "\n",
       "    .dataframe tbody tr th {\n",
       "        vertical-align: top;\n",
       "    }\n",
       "\n",
       "    .dataframe thead th {\n",
       "        text-align: right;\n",
       "    }\n",
       "</style>\n",
       "<table border=\"1\" class=\"dataframe\">\n",
       "  <thead>\n",
       "    <tr style=\"text-align: right;\">\n",
       "      <th></th>\n",
       "      <th>Store</th>\n",
       "      <th>Date</th>\n",
       "      <th>Weekly_Sales</th>\n",
       "      <th>Holiday_Flag</th>\n",
       "      <th>Temperature</th>\n",
       "      <th>Fuel_Price</th>\n",
       "      <th>CPI</th>\n",
       "      <th>Unemployment</th>\n",
       "    </tr>\n",
       "  </thead>\n",
       "  <tbody>\n",
       "    <tr>\n",
       "      <th>0</th>\n",
       "      <td>1</td>\n",
       "      <td>05-02-2010</td>\n",
       "      <td>1643690.90</td>\n",
       "      <td>0</td>\n",
       "      <td>42.31</td>\n",
       "      <td>2.572</td>\n",
       "      <td>211.096358</td>\n",
       "      <td>8.106</td>\n",
       "    </tr>\n",
       "    <tr>\n",
       "      <th>1</th>\n",
       "      <td>1</td>\n",
       "      <td>12-02-2010</td>\n",
       "      <td>1641957.44</td>\n",
       "      <td>1</td>\n",
       "      <td>38.51</td>\n",
       "      <td>2.548</td>\n",
       "      <td>211.242170</td>\n",
       "      <td>8.106</td>\n",
       "    </tr>\n",
       "    <tr>\n",
       "      <th>2</th>\n",
       "      <td>1</td>\n",
       "      <td>19-02-2010</td>\n",
       "      <td>1611968.17</td>\n",
       "      <td>0</td>\n",
       "      <td>39.93</td>\n",
       "      <td>2.514</td>\n",
       "      <td>211.289143</td>\n",
       "      <td>8.106</td>\n",
       "    </tr>\n",
       "    <tr>\n",
       "      <th>3</th>\n",
       "      <td>1</td>\n",
       "      <td>26-02-2010</td>\n",
       "      <td>1409727.59</td>\n",
       "      <td>0</td>\n",
       "      <td>46.63</td>\n",
       "      <td>2.561</td>\n",
       "      <td>211.319643</td>\n",
       "      <td>8.106</td>\n",
       "    </tr>\n",
       "    <tr>\n",
       "      <th>4</th>\n",
       "      <td>1</td>\n",
       "      <td>05-03-2010</td>\n",
       "      <td>1554806.68</td>\n",
       "      <td>0</td>\n",
       "      <td>46.50</td>\n",
       "      <td>2.625</td>\n",
       "      <td>211.350143</td>\n",
       "      <td>8.106</td>\n",
       "    </tr>\n",
       "  </tbody>\n",
       "</table>\n",
       "</div>"
      ],
      "text/plain": [
       "   Store        Date  Weekly_Sales  Holiday_Flag  Temperature  Fuel_Price  \\\n",
       "0      1  05-02-2010    1643690.90             0        42.31       2.572   \n",
       "1      1  12-02-2010    1641957.44             1        38.51       2.548   \n",
       "2      1  19-02-2010    1611968.17             0        39.93       2.514   \n",
       "3      1  26-02-2010    1409727.59             0        46.63       2.561   \n",
       "4      1  05-03-2010    1554806.68             0        46.50       2.625   \n",
       "\n",
       "          CPI  Unemployment  \n",
       "0  211.096358         8.106  \n",
       "1  211.242170         8.106  \n",
       "2  211.289143         8.106  \n",
       "3  211.319643         8.106  \n",
       "4  211.350143         8.106  "
      ]
     },
     "execution_count": 9,
     "metadata": {},
     "output_type": "execute_result"
    }
   ],
   "source": [
    "df.head()"
   ]
  },
  {
   "cell_type": "code",
   "execution_count": 10,
   "id": "e65ba81e",
   "metadata": {},
   "outputs": [
    {
     "data": {
      "text/html": [
       "<div>\n",
       "<style scoped>\n",
       "    .dataframe tbody tr th:only-of-type {\n",
       "        vertical-align: middle;\n",
       "    }\n",
       "\n",
       "    .dataframe tbody tr th {\n",
       "        vertical-align: top;\n",
       "    }\n",
       "\n",
       "    .dataframe thead th {\n",
       "        text-align: right;\n",
       "    }\n",
       "</style>\n",
       "<table border=\"1\" class=\"dataframe\">\n",
       "  <thead>\n",
       "    <tr style=\"text-align: right;\">\n",
       "      <th></th>\n",
       "      <th>count</th>\n",
       "      <th>unique</th>\n",
       "      <th>top</th>\n",
       "      <th>freq</th>\n",
       "    </tr>\n",
       "  </thead>\n",
       "  <tbody>\n",
       "    <tr>\n",
       "      <th>Store</th>\n",
       "      <td>6435</td>\n",
       "      <td>45</td>\n",
       "      <td>1</td>\n",
       "      <td>143</td>\n",
       "    </tr>\n",
       "    <tr>\n",
       "      <th>Date</th>\n",
       "      <td>6435</td>\n",
       "      <td>143</td>\n",
       "      <td>05-02-2010</td>\n",
       "      <td>45</td>\n",
       "    </tr>\n",
       "    <tr>\n",
       "      <th>Weekly_Sales</th>\n",
       "      <td>6435.0</td>\n",
       "      <td>6435.0</td>\n",
       "      <td>1643690.9</td>\n",
       "      <td>1.0</td>\n",
       "    </tr>\n",
       "    <tr>\n",
       "      <th>Holiday_Flag</th>\n",
       "      <td>6435</td>\n",
       "      <td>2</td>\n",
       "      <td>0</td>\n",
       "      <td>5985</td>\n",
       "    </tr>\n",
       "    <tr>\n",
       "      <th>Temperature</th>\n",
       "      <td>6435.0</td>\n",
       "      <td>3528.0</td>\n",
       "      <td>50.43</td>\n",
       "      <td>11.0</td>\n",
       "    </tr>\n",
       "    <tr>\n",
       "      <th>Fuel_Price</th>\n",
       "      <td>6435.0</td>\n",
       "      <td>892.0</td>\n",
       "      <td>3.638</td>\n",
       "      <td>39.0</td>\n",
       "    </tr>\n",
       "    <tr>\n",
       "      <th>CPI</th>\n",
       "      <td>6435.0</td>\n",
       "      <td>2145.0</td>\n",
       "      <td>130.550207</td>\n",
       "      <td>11.0</td>\n",
       "    </tr>\n",
       "    <tr>\n",
       "      <th>Unemployment</th>\n",
       "      <td>6435.0</td>\n",
       "      <td>349.0</td>\n",
       "      <td>8.099</td>\n",
       "      <td>78.0</td>\n",
       "    </tr>\n",
       "  </tbody>\n",
       "</table>\n",
       "</div>"
      ],
      "text/plain": [
       "               count  unique         top  freq\n",
       "Store           6435      45           1   143\n",
       "Date            6435     143  05-02-2010    45\n",
       "Weekly_Sales  6435.0  6435.0   1643690.9   1.0\n",
       "Holiday_Flag    6435       2           0  5985\n",
       "Temperature   6435.0  3528.0       50.43  11.0\n",
       "Fuel_Price    6435.0   892.0       3.638  39.0\n",
       "CPI           6435.0  2145.0  130.550207  11.0\n",
       "Unemployment  6435.0   349.0       8.099  78.0"
      ]
     },
     "execution_count": 10,
     "metadata": {},
     "output_type": "execute_result"
    }
   ],
   "source": [
    "df.astype('object').describe().T"
   ]
  },
  {
   "cell_type": "code",
   "execution_count": 11,
   "id": "ae11139c",
   "metadata": {},
   "outputs": [
    {
     "data": {
      "text/html": [
       "<div>\n",
       "<style scoped>\n",
       "    .dataframe tbody tr th:only-of-type {\n",
       "        vertical-align: middle;\n",
       "    }\n",
       "\n",
       "    .dataframe tbody tr th {\n",
       "        vertical-align: top;\n",
       "    }\n",
       "\n",
       "    .dataframe thead th {\n",
       "        text-align: right;\n",
       "    }\n",
       "</style>\n",
       "<table border=\"1\" class=\"dataframe\">\n",
       "  <thead>\n",
       "    <tr style=\"text-align: right;\">\n",
       "      <th></th>\n",
       "      <th>Store</th>\n",
       "      <th>Weekly_Sales</th>\n",
       "      <th>Holiday_Flag</th>\n",
       "      <th>Temperature</th>\n",
       "      <th>Fuel_Price</th>\n",
       "      <th>CPI</th>\n",
       "      <th>Unemployment</th>\n",
       "    </tr>\n",
       "  </thead>\n",
       "  <tbody>\n",
       "    <tr>\n",
       "      <th>count</th>\n",
       "      <td>6435.000000</td>\n",
       "      <td>6.435000e+03</td>\n",
       "      <td>6435.000000</td>\n",
       "      <td>6435.000000</td>\n",
       "      <td>6435.000000</td>\n",
       "      <td>6435.000000</td>\n",
       "      <td>6435.000000</td>\n",
       "    </tr>\n",
       "    <tr>\n",
       "      <th>mean</th>\n",
       "      <td>23.000000</td>\n",
       "      <td>1.046965e+06</td>\n",
       "      <td>0.069930</td>\n",
       "      <td>60.663782</td>\n",
       "      <td>3.358607</td>\n",
       "      <td>171.578394</td>\n",
       "      <td>7.999151</td>\n",
       "    </tr>\n",
       "    <tr>\n",
       "      <th>std</th>\n",
       "      <td>12.988182</td>\n",
       "      <td>5.643666e+05</td>\n",
       "      <td>0.255049</td>\n",
       "      <td>18.444933</td>\n",
       "      <td>0.459020</td>\n",
       "      <td>39.356712</td>\n",
       "      <td>1.875885</td>\n",
       "    </tr>\n",
       "    <tr>\n",
       "      <th>min</th>\n",
       "      <td>1.000000</td>\n",
       "      <td>2.099862e+05</td>\n",
       "      <td>0.000000</td>\n",
       "      <td>-2.060000</td>\n",
       "      <td>2.472000</td>\n",
       "      <td>126.064000</td>\n",
       "      <td>3.879000</td>\n",
       "    </tr>\n",
       "    <tr>\n",
       "      <th>25%</th>\n",
       "      <td>12.000000</td>\n",
       "      <td>5.533501e+05</td>\n",
       "      <td>0.000000</td>\n",
       "      <td>47.460000</td>\n",
       "      <td>2.933000</td>\n",
       "      <td>131.735000</td>\n",
       "      <td>6.891000</td>\n",
       "    </tr>\n",
       "    <tr>\n",
       "      <th>50%</th>\n",
       "      <td>23.000000</td>\n",
       "      <td>9.607460e+05</td>\n",
       "      <td>0.000000</td>\n",
       "      <td>62.670000</td>\n",
       "      <td>3.445000</td>\n",
       "      <td>182.616521</td>\n",
       "      <td>7.874000</td>\n",
       "    </tr>\n",
       "    <tr>\n",
       "      <th>75%</th>\n",
       "      <td>34.000000</td>\n",
       "      <td>1.420159e+06</td>\n",
       "      <td>0.000000</td>\n",
       "      <td>74.940000</td>\n",
       "      <td>3.735000</td>\n",
       "      <td>212.743293</td>\n",
       "      <td>8.622000</td>\n",
       "    </tr>\n",
       "    <tr>\n",
       "      <th>max</th>\n",
       "      <td>45.000000</td>\n",
       "      <td>3.818686e+06</td>\n",
       "      <td>1.000000</td>\n",
       "      <td>100.140000</td>\n",
       "      <td>4.468000</td>\n",
       "      <td>227.232807</td>\n",
       "      <td>14.313000</td>\n",
       "    </tr>\n",
       "  </tbody>\n",
       "</table>\n",
       "</div>"
      ],
      "text/plain": [
       "             Store  Weekly_Sales  Holiday_Flag  Temperature   Fuel_Price  \\\n",
       "count  6435.000000  6.435000e+03   6435.000000  6435.000000  6435.000000   \n",
       "mean     23.000000  1.046965e+06      0.069930    60.663782     3.358607   \n",
       "std      12.988182  5.643666e+05      0.255049    18.444933     0.459020   \n",
       "min       1.000000  2.099862e+05      0.000000    -2.060000     2.472000   \n",
       "25%      12.000000  5.533501e+05      0.000000    47.460000     2.933000   \n",
       "50%      23.000000  9.607460e+05      0.000000    62.670000     3.445000   \n",
       "75%      34.000000  1.420159e+06      0.000000    74.940000     3.735000   \n",
       "max      45.000000  3.818686e+06      1.000000   100.140000     4.468000   \n",
       "\n",
       "               CPI  Unemployment  \n",
       "count  6435.000000   6435.000000  \n",
       "mean    171.578394      7.999151  \n",
       "std      39.356712      1.875885  \n",
       "min     126.064000      3.879000  \n",
       "25%     131.735000      6.891000  \n",
       "50%     182.616521      7.874000  \n",
       "75%     212.743293      8.622000  \n",
       "max     227.232807     14.313000  "
      ]
     },
     "execution_count": 11,
     "metadata": {},
     "output_type": "execute_result"
    }
   ],
   "source": [
    "df.describe()"
   ]
  },
  {
   "cell_type": "code",
   "execution_count": 12,
   "id": "4c99f665",
   "metadata": {},
   "outputs": [
    {
     "name": "stdout",
     "output_type": "stream",
     "text": [
      "<class 'pandas.core.frame.DataFrame'>\n",
      "RangeIndex: 6435 entries, 0 to 6434\n",
      "Data columns (total 8 columns):\n",
      " #   Column        Non-Null Count  Dtype  \n",
      "---  ------        --------------  -----  \n",
      " 0   Store         6435 non-null   int64  \n",
      " 1   Date          6435 non-null   object \n",
      " 2   Weekly_Sales  6435 non-null   float64\n",
      " 3   Holiday_Flag  6435 non-null   int64  \n",
      " 4   Temperature   6435 non-null   float64\n",
      " 5   Fuel_Price    6435 non-null   float64\n",
      " 6   CPI           6435 non-null   float64\n",
      " 7   Unemployment  6435 non-null   float64\n",
      "dtypes: float64(5), int64(2), object(1)\n",
      "memory usage: 402.3+ KB\n"
     ]
    }
   ],
   "source": [
    "df.info()"
   ]
  },
  {
   "cell_type": "code",
   "execution_count": 13,
   "id": "d2bb6986",
   "metadata": {},
   "outputs": [],
   "source": [
    "df.Date = pd.to_datetime(df.Date)"
   ]
  },
  {
   "cell_type": "code",
   "execution_count": 14,
   "id": "5b4803e6",
   "metadata": {},
   "outputs": [
    {
     "name": "stdout",
     "output_type": "stream",
     "text": [
      "<class 'pandas.core.frame.DataFrame'>\n",
      "RangeIndex: 6435 entries, 0 to 6434\n",
      "Data columns (total 8 columns):\n",
      " #   Column        Non-Null Count  Dtype         \n",
      "---  ------        --------------  -----         \n",
      " 0   Store         6435 non-null   int64         \n",
      " 1   Date          6435 non-null   datetime64[ns]\n",
      " 2   Weekly_Sales  6435 non-null   float64       \n",
      " 3   Holiday_Flag  6435 non-null   int64         \n",
      " 4   Temperature   6435 non-null   float64       \n",
      " 5   Fuel_Price    6435 non-null   float64       \n",
      " 6   CPI           6435 non-null   float64       \n",
      " 7   Unemployment  6435 non-null   float64       \n",
      "dtypes: datetime64[ns](1), float64(5), int64(2)\n",
      "memory usage: 402.3 KB\n"
     ]
    }
   ],
   "source": [
    "df.info()"
   ]
  },
  {
   "cell_type": "code",
   "execution_count": 15,
   "id": "507d5ed1",
   "metadata": {},
   "outputs": [
    {
     "data": {
      "text/plain": [
       "Index(['Store', 'Date', 'Weekly_Sales', 'Holiday_Flag', 'Temperature',\n",
       "       'Fuel_Price', 'CPI', 'Unemployment'],\n",
       "      dtype='object')"
      ]
     },
     "execution_count": 15,
     "metadata": {},
     "output_type": "execute_result"
    }
   ],
   "source": [
    "df.columns"
   ]
  },
  {
   "cell_type": "code",
   "execution_count": 16,
   "id": "ded910fc",
   "metadata": {},
   "outputs": [
    {
     "data": {
      "text/plain": [
       "Store           0\n",
       "Date            0\n",
       "Weekly_Sales    0\n",
       "Holiday_Flag    0\n",
       "Temperature     0\n",
       "Fuel_Price      0\n",
       "CPI             0\n",
       "Unemployment    0\n",
       "dtype: int64"
      ]
     },
     "execution_count": 16,
     "metadata": {},
     "output_type": "execute_result"
    }
   ],
   "source": [
    "df.isnull().sum()"
   ]
  },
  {
   "cell_type": "code",
   "execution_count": 17,
   "id": "44620ab9",
   "metadata": {},
   "outputs": [
    {
     "data": {
      "text/html": [
       "<div>\n",
       "<style scoped>\n",
       "    .dataframe tbody tr th:only-of-type {\n",
       "        vertical-align: middle;\n",
       "    }\n",
       "\n",
       "    .dataframe tbody tr th {\n",
       "        vertical-align: top;\n",
       "    }\n",
       "\n",
       "    .dataframe thead th {\n",
       "        text-align: right;\n",
       "    }\n",
       "</style>\n",
       "<table border=\"1\" class=\"dataframe\">\n",
       "  <thead>\n",
       "    <tr style=\"text-align: right;\">\n",
       "      <th></th>\n",
       "      <th>Store</th>\n",
       "      <th>Date</th>\n",
       "      <th>Weekly_Sales</th>\n",
       "      <th>Holiday_Flag</th>\n",
       "      <th>Temperature</th>\n",
       "      <th>Fuel_Price</th>\n",
       "      <th>CPI</th>\n",
       "      <th>Unemployment</th>\n",
       "    </tr>\n",
       "  </thead>\n",
       "  <tbody>\n",
       "    <tr>\n",
       "      <th>0</th>\n",
       "      <td>1</td>\n",
       "      <td>2010-05-02</td>\n",
       "      <td>1643690.90</td>\n",
       "      <td>0</td>\n",
       "      <td>42.31</td>\n",
       "      <td>2.572</td>\n",
       "      <td>211.096358</td>\n",
       "      <td>8.106</td>\n",
       "    </tr>\n",
       "    <tr>\n",
       "      <th>1</th>\n",
       "      <td>1</td>\n",
       "      <td>2010-12-02</td>\n",
       "      <td>1641957.44</td>\n",
       "      <td>1</td>\n",
       "      <td>38.51</td>\n",
       "      <td>2.548</td>\n",
       "      <td>211.242170</td>\n",
       "      <td>8.106</td>\n",
       "    </tr>\n",
       "    <tr>\n",
       "      <th>2</th>\n",
       "      <td>1</td>\n",
       "      <td>2010-02-19</td>\n",
       "      <td>1611968.17</td>\n",
       "      <td>0</td>\n",
       "      <td>39.93</td>\n",
       "      <td>2.514</td>\n",
       "      <td>211.289143</td>\n",
       "      <td>8.106</td>\n",
       "    </tr>\n",
       "    <tr>\n",
       "      <th>3</th>\n",
       "      <td>1</td>\n",
       "      <td>2010-02-26</td>\n",
       "      <td>1409727.59</td>\n",
       "      <td>0</td>\n",
       "      <td>46.63</td>\n",
       "      <td>2.561</td>\n",
       "      <td>211.319643</td>\n",
       "      <td>8.106</td>\n",
       "    </tr>\n",
       "    <tr>\n",
       "      <th>4</th>\n",
       "      <td>1</td>\n",
       "      <td>2010-05-03</td>\n",
       "      <td>1554806.68</td>\n",
       "      <td>0</td>\n",
       "      <td>46.50</td>\n",
       "      <td>2.625</td>\n",
       "      <td>211.350143</td>\n",
       "      <td>8.106</td>\n",
       "    </tr>\n",
       "  </tbody>\n",
       "</table>\n",
       "</div>"
      ],
      "text/plain": [
       "   Store       Date  Weekly_Sales  Holiday_Flag  Temperature  Fuel_Price  \\\n",
       "0      1 2010-05-02    1643690.90             0        42.31       2.572   \n",
       "1      1 2010-12-02    1641957.44             1        38.51       2.548   \n",
       "2      1 2010-02-19    1611968.17             0        39.93       2.514   \n",
       "3      1 2010-02-26    1409727.59             0        46.63       2.561   \n",
       "4      1 2010-05-03    1554806.68             0        46.50       2.625   \n",
       "\n",
       "          CPI  Unemployment  \n",
       "0  211.096358         8.106  \n",
       "1  211.242170         8.106  \n",
       "2  211.289143         8.106  \n",
       "3  211.319643         8.106  \n",
       "4  211.350143         8.106  "
      ]
     },
     "execution_count": 17,
     "metadata": {},
     "output_type": "execute_result"
    }
   ],
   "source": [
    "df.head()"
   ]
  },
  {
   "cell_type": "code",
   "execution_count": 18,
   "id": "f9aa5e76",
   "metadata": {},
   "outputs": [
    {
     "data": {
      "text/html": [
       "<div>\n",
       "<style scoped>\n",
       "    .dataframe tbody tr th:only-of-type {\n",
       "        vertical-align: middle;\n",
       "    }\n",
       "\n",
       "    .dataframe tbody tr th {\n",
       "        vertical-align: top;\n",
       "    }\n",
       "\n",
       "    .dataframe thead th {\n",
       "        text-align: right;\n",
       "    }\n",
       "</style>\n",
       "<table border=\"1\" class=\"dataframe\">\n",
       "  <thead>\n",
       "    <tr style=\"text-align: right;\">\n",
       "      <th></th>\n",
       "      <th>Store</th>\n",
       "      <th>Weekly_Sales</th>\n",
       "      <th>Holiday_Flag</th>\n",
       "      <th>Temperature</th>\n",
       "      <th>Fuel_Price</th>\n",
       "      <th>CPI</th>\n",
       "      <th>Unemployment</th>\n",
       "    </tr>\n",
       "  </thead>\n",
       "  <tbody>\n",
       "    <tr>\n",
       "      <th>count</th>\n",
       "      <td>6435.000000</td>\n",
       "      <td>6.435000e+03</td>\n",
       "      <td>6435.000000</td>\n",
       "      <td>6435.000000</td>\n",
       "      <td>6435.000000</td>\n",
       "      <td>6435.000000</td>\n",
       "      <td>6435.000000</td>\n",
       "    </tr>\n",
       "    <tr>\n",
       "      <th>mean</th>\n",
       "      <td>23.000000</td>\n",
       "      <td>1.046965e+06</td>\n",
       "      <td>0.069930</td>\n",
       "      <td>60.663782</td>\n",
       "      <td>3.358607</td>\n",
       "      <td>171.578394</td>\n",
       "      <td>7.999151</td>\n",
       "    </tr>\n",
       "    <tr>\n",
       "      <th>std</th>\n",
       "      <td>12.988182</td>\n",
       "      <td>5.643666e+05</td>\n",
       "      <td>0.255049</td>\n",
       "      <td>18.444933</td>\n",
       "      <td>0.459020</td>\n",
       "      <td>39.356712</td>\n",
       "      <td>1.875885</td>\n",
       "    </tr>\n",
       "    <tr>\n",
       "      <th>min</th>\n",
       "      <td>1.000000</td>\n",
       "      <td>2.099862e+05</td>\n",
       "      <td>0.000000</td>\n",
       "      <td>-2.060000</td>\n",
       "      <td>2.472000</td>\n",
       "      <td>126.064000</td>\n",
       "      <td>3.879000</td>\n",
       "    </tr>\n",
       "    <tr>\n",
       "      <th>25%</th>\n",
       "      <td>12.000000</td>\n",
       "      <td>5.533501e+05</td>\n",
       "      <td>0.000000</td>\n",
       "      <td>47.460000</td>\n",
       "      <td>2.933000</td>\n",
       "      <td>131.735000</td>\n",
       "      <td>6.891000</td>\n",
       "    </tr>\n",
       "    <tr>\n",
       "      <th>50%</th>\n",
       "      <td>23.000000</td>\n",
       "      <td>9.607460e+05</td>\n",
       "      <td>0.000000</td>\n",
       "      <td>62.670000</td>\n",
       "      <td>3.445000</td>\n",
       "      <td>182.616521</td>\n",
       "      <td>7.874000</td>\n",
       "    </tr>\n",
       "    <tr>\n",
       "      <th>75%</th>\n",
       "      <td>34.000000</td>\n",
       "      <td>1.420159e+06</td>\n",
       "      <td>0.000000</td>\n",
       "      <td>74.940000</td>\n",
       "      <td>3.735000</td>\n",
       "      <td>212.743293</td>\n",
       "      <td>8.622000</td>\n",
       "    </tr>\n",
       "    <tr>\n",
       "      <th>max</th>\n",
       "      <td>45.000000</td>\n",
       "      <td>3.818686e+06</td>\n",
       "      <td>1.000000</td>\n",
       "      <td>100.140000</td>\n",
       "      <td>4.468000</td>\n",
       "      <td>227.232807</td>\n",
       "      <td>14.313000</td>\n",
       "    </tr>\n",
       "  </tbody>\n",
       "</table>\n",
       "</div>"
      ],
      "text/plain": [
       "             Store  Weekly_Sales  Holiday_Flag  Temperature   Fuel_Price  \\\n",
       "count  6435.000000  6.435000e+03   6435.000000  6435.000000  6435.000000   \n",
       "mean     23.000000  1.046965e+06      0.069930    60.663782     3.358607   \n",
       "std      12.988182  5.643666e+05      0.255049    18.444933     0.459020   \n",
       "min       1.000000  2.099862e+05      0.000000    -2.060000     2.472000   \n",
       "25%      12.000000  5.533501e+05      0.000000    47.460000     2.933000   \n",
       "50%      23.000000  9.607460e+05      0.000000    62.670000     3.445000   \n",
       "75%      34.000000  1.420159e+06      0.000000    74.940000     3.735000   \n",
       "max      45.000000  3.818686e+06      1.000000   100.140000     4.468000   \n",
       "\n",
       "               CPI  Unemployment  \n",
       "count  6435.000000   6435.000000  \n",
       "mean    171.578394      7.999151  \n",
       "std      39.356712      1.875885  \n",
       "min     126.064000      3.879000  \n",
       "25%     131.735000      6.891000  \n",
       "50%     182.616521      7.874000  \n",
       "75%     212.743293      8.622000  \n",
       "max     227.232807     14.313000  "
      ]
     },
     "execution_count": 18,
     "metadata": {},
     "output_type": "execute_result"
    }
   ],
   "source": [
    "df.describe()"
   ]
  },
  {
   "cell_type": "code",
   "execution_count": 19,
   "id": "04ca8fb3",
   "metadata": {},
   "outputs": [],
   "source": [
    "df.columns = df.columns.str.lower().str.strip().str.replace(' ','-')"
   ]
  },
  {
   "cell_type": "code",
   "execution_count": 20,
   "id": "d43e0517",
   "metadata": {},
   "outputs": [
    {
     "data": {
      "text/plain": [
       "Index(['store', 'date', 'weekly_sales', 'holiday_flag', 'temperature',\n",
       "       'fuel_price', 'cpi', 'unemployment'],\n",
       "      dtype='object')"
      ]
     },
     "execution_count": 20,
     "metadata": {},
     "output_type": "execute_result"
    }
   ],
   "source": [
    "df.columns"
   ]
  },
  {
   "cell_type": "code",
   "execution_count": 21,
   "id": "9528f926",
   "metadata": {},
   "outputs": [
    {
     "data": {
      "text/plain": [
       "array([ 1,  2,  3,  4,  5,  6,  7,  8,  9, 10, 11, 12, 13, 14, 15, 16, 17,\n",
       "       18, 19, 20, 21, 22, 23, 24, 25, 26, 27, 28, 29, 30, 31, 32, 33, 34,\n",
       "       35, 36, 37, 38, 39, 40, 41, 42, 43, 44, 45], dtype=int64)"
      ]
     },
     "execution_count": 21,
     "metadata": {},
     "output_type": "execute_result"
    }
   ],
   "source": [
    "df.store.unique()"
   ]
  },
  {
   "cell_type": "code",
   "execution_count": 22,
   "id": "4f806583",
   "metadata": {
    "tags": []
   },
   "outputs": [
    {
     "data": {
      "text/html": [
       "<div>\n",
       "<style scoped>\n",
       "    .dataframe tbody tr th:only-of-type {\n",
       "        vertical-align: middle;\n",
       "    }\n",
       "\n",
       "    .dataframe tbody tr th {\n",
       "        vertical-align: top;\n",
       "    }\n",
       "\n",
       "    .dataframe thead th {\n",
       "        text-align: right;\n",
       "    }\n",
       "</style>\n",
       "<table border=\"1\" class=\"dataframe\">\n",
       "  <thead>\n",
       "    <tr style=\"text-align: right;\">\n",
       "      <th></th>\n",
       "      <th>store</th>\n",
       "      <th>date</th>\n",
       "      <th>weekly_sales</th>\n",
       "      <th>holiday_flag</th>\n",
       "      <th>temperature</th>\n",
       "      <th>fuel_price</th>\n",
       "      <th>cpi</th>\n",
       "      <th>unemployment</th>\n",
       "    </tr>\n",
       "  </thead>\n",
       "  <tbody>\n",
       "    <tr>\n",
       "      <th>0</th>\n",
       "      <td>1</td>\n",
       "      <td>2010-05-02</td>\n",
       "      <td>1643690.90</td>\n",
       "      <td>0</td>\n",
       "      <td>42.31</td>\n",
       "      <td>2.572</td>\n",
       "      <td>211.096358</td>\n",
       "      <td>8.106</td>\n",
       "    </tr>\n",
       "    <tr>\n",
       "      <th>1</th>\n",
       "      <td>1</td>\n",
       "      <td>2010-12-02</td>\n",
       "      <td>1641957.44</td>\n",
       "      <td>1</td>\n",
       "      <td>38.51</td>\n",
       "      <td>2.548</td>\n",
       "      <td>211.242170</td>\n",
       "      <td>8.106</td>\n",
       "    </tr>\n",
       "    <tr>\n",
       "      <th>2</th>\n",
       "      <td>1</td>\n",
       "      <td>2010-02-19</td>\n",
       "      <td>1611968.17</td>\n",
       "      <td>0</td>\n",
       "      <td>39.93</td>\n",
       "      <td>2.514</td>\n",
       "      <td>211.289143</td>\n",
       "      <td>8.106</td>\n",
       "    </tr>\n",
       "    <tr>\n",
       "      <th>3</th>\n",
       "      <td>1</td>\n",
       "      <td>2010-02-26</td>\n",
       "      <td>1409727.59</td>\n",
       "      <td>0</td>\n",
       "      <td>46.63</td>\n",
       "      <td>2.561</td>\n",
       "      <td>211.319643</td>\n",
       "      <td>8.106</td>\n",
       "    </tr>\n",
       "    <tr>\n",
       "      <th>4</th>\n",
       "      <td>1</td>\n",
       "      <td>2010-05-03</td>\n",
       "      <td>1554806.68</td>\n",
       "      <td>0</td>\n",
       "      <td>46.50</td>\n",
       "      <td>2.625</td>\n",
       "      <td>211.350143</td>\n",
       "      <td>8.106</td>\n",
       "    </tr>\n",
       "  </tbody>\n",
       "</table>\n",
       "</div>"
      ],
      "text/plain": [
       "   store       date  weekly_sales  holiday_flag  temperature  fuel_price  \\\n",
       "0      1 2010-05-02    1643690.90             0        42.31       2.572   \n",
       "1      1 2010-12-02    1641957.44             1        38.51       2.548   \n",
       "2      1 2010-02-19    1611968.17             0        39.93       2.514   \n",
       "3      1 2010-02-26    1409727.59             0        46.63       2.561   \n",
       "4      1 2010-05-03    1554806.68             0        46.50       2.625   \n",
       "\n",
       "          cpi  unemployment  \n",
       "0  211.096358         8.106  \n",
       "1  211.242170         8.106  \n",
       "2  211.289143         8.106  \n",
       "3  211.319643         8.106  \n",
       "4  211.350143         8.106  "
      ]
     },
     "execution_count": 22,
     "metadata": {},
     "output_type": "execute_result"
    }
   ],
   "source": [
    "df.head()"
   ]
  },
  {
   "cell_type": "code",
   "execution_count": 23,
   "id": "19a2124f",
   "metadata": {},
   "outputs": [
    {
     "name": "stdout",
     "output_type": "stream",
     "text": [
      "<class 'pandas.core.frame.DataFrame'>\n",
      "RangeIndex: 6435 entries, 0 to 6434\n",
      "Data columns (total 8 columns):\n",
      " #   Column        Non-Null Count  Dtype         \n",
      "---  ------        --------------  -----         \n",
      " 0   store         6435 non-null   int64         \n",
      " 1   date          6435 non-null   datetime64[ns]\n",
      " 2   weekly_sales  6435 non-null   float64       \n",
      " 3   holiday_flag  6435 non-null   int64         \n",
      " 4   temperature   6435 non-null   float64       \n",
      " 5   fuel_price    6435 non-null   float64       \n",
      " 6   cpi           6435 non-null   float64       \n",
      " 7   unemployment  6435 non-null   float64       \n",
      "dtypes: datetime64[ns](1), float64(5), int64(2)\n",
      "memory usage: 402.3 KB\n"
     ]
    }
   ],
   "source": [
    "df.info()"
   ]
  },
  {
   "cell_type": "code",
   "execution_count": 24,
   "id": "6bfa4eb9",
   "metadata": {},
   "outputs": [],
   "source": [
    "df.store = df.store.astype('object')"
   ]
  },
  {
   "cell_type": "code",
   "execution_count": 25,
   "id": "ceb604fe",
   "metadata": {},
   "outputs": [
    {
     "name": "stdout",
     "output_type": "stream",
     "text": [
      "<class 'pandas.core.frame.DataFrame'>\n",
      "RangeIndex: 6435 entries, 0 to 6434\n",
      "Data columns (total 8 columns):\n",
      " #   Column        Non-Null Count  Dtype         \n",
      "---  ------        --------------  -----         \n",
      " 0   store         6435 non-null   object        \n",
      " 1   date          6435 non-null   datetime64[ns]\n",
      " 2   weekly_sales  6435 non-null   float64       \n",
      " 3   holiday_flag  6435 non-null   int64         \n",
      " 4   temperature   6435 non-null   float64       \n",
      " 5   fuel_price    6435 non-null   float64       \n",
      " 6   cpi           6435 non-null   float64       \n",
      " 7   unemployment  6435 non-null   float64       \n",
      "dtypes: datetime64[ns](1), float64(5), int64(1), object(1)\n",
      "memory usage: 402.3+ KB\n"
     ]
    }
   ],
   "source": [
    "df.info()"
   ]
  },
  {
   "cell_type": "code",
   "execution_count": 26,
   "id": "d82f449c",
   "metadata": {},
   "outputs": [
    {
     "data": {
      "text/plain": [
       "Index(['store', 'date', 'weekly_sales', 'holiday_flag', 'temperature',\n",
       "       'fuel_price', 'cpi', 'unemployment'],\n",
       "      dtype='object')"
      ]
     },
     "execution_count": 26,
     "metadata": {},
     "output_type": "execute_result"
    }
   ],
   "source": [
    "df.columns"
   ]
  },
  {
   "cell_type": "code",
   "execution_count": 27,
   "id": "b082e06e",
   "metadata": {},
   "outputs": [],
   "source": [
    "#sns.pairplot(df)"
   ]
  },
  {
   "cell_type": "code",
   "execution_count": 28,
   "id": "7ec9a19b",
   "metadata": {},
   "outputs": [],
   "source": [
    "df.holiday_flag = df.holiday_flag.astype('object')"
   ]
  },
  {
   "cell_type": "code",
   "execution_count": 29,
   "id": "659d3271",
   "metadata": {},
   "outputs": [
    {
     "name": "stdout",
     "output_type": "stream",
     "text": [
      "<class 'pandas.core.frame.DataFrame'>\n",
      "RangeIndex: 6435 entries, 0 to 6434\n",
      "Data columns (total 8 columns):\n",
      " #   Column        Non-Null Count  Dtype         \n",
      "---  ------        --------------  -----         \n",
      " 0   store         6435 non-null   object        \n",
      " 1   date          6435 non-null   datetime64[ns]\n",
      " 2   weekly_sales  6435 non-null   float64       \n",
      " 3   holiday_flag  6435 non-null   object        \n",
      " 4   temperature   6435 non-null   float64       \n",
      " 5   fuel_price    6435 non-null   float64       \n",
      " 6   cpi           6435 non-null   float64       \n",
      " 7   unemployment  6435 non-null   float64       \n",
      "dtypes: datetime64[ns](1), float64(5), object(2)\n",
      "memory usage: 402.3+ KB\n"
     ]
    }
   ],
   "source": [
    "df.info()"
   ]
  },
  {
   "cell_type": "code",
   "execution_count": 30,
   "id": "90464cba",
   "metadata": {},
   "outputs": [],
   "source": [
    "#Normality test\n",
    "#stats.normaltest('weekly_sales')"
   ]
  },
  {
   "cell_type": "markdown",
   "id": "3092a4b7",
   "metadata": {},
   "source": [
    "# Univariate Analysis"
   ]
  },
  {
   "cell_type": "code",
   "execution_count": 31,
   "id": "2e153a0b",
   "metadata": {},
   "outputs": [
    {
     "data": {
      "text/plain": [
       "count    6.435000e+03\n",
       "mean     1.046965e+06\n",
       "std      5.643666e+05\n",
       "min      2.099862e+05\n",
       "25%      5.533501e+05\n",
       "50%      9.607460e+05\n",
       "75%      1.420159e+06\n",
       "max      3.818686e+06\n",
       "Name: weekly_sales, dtype: float64"
      ]
     },
     "execution_count": 31,
     "metadata": {},
     "output_type": "execute_result"
    }
   ],
   "source": [
    "#numerical\n",
    "df.weekly_sales.describe()"
   ]
  },
  {
   "cell_type": "code",
   "execution_count": 32,
   "id": "3fbd2e6d",
   "metadata": {},
   "outputs": [
    {
     "data": {
      "image/png": "[encoded data removed]",
      "text/plain": [
       "<Figure size 640x480 with 1 Axes>"
      ]
     },
     "metadata": {},
     "output_type": "display_data"
    }
   ],
   "source": [
    "sns.histplot(df.weekly_sales,kde=True,bins=50,color='Red')\n",
    "plt.show()"
   ]
  },
  {
   "cell_type": "code",
   "execution_count": 33,
   "id": "eced525d",
   "metadata": {},
   "outputs": [
    {
     "data": {
      "text/plain": [
       "0    5985\n",
       "1     450\n",
       "Name: holiday_flag, dtype: int64"
      ]
     },
     "execution_count": 33,
     "metadata": {},
     "output_type": "execute_result"
    }
   ],
   "source": [
    "#categorical\n",
    "df.holiday_flag.value_counts()"
   ]
  },
  {
   "cell_type": "code",
   "execution_count": 34,
   "id": "4b8cc9a6",
   "metadata": {},
   "outputs": [
    {
     "data": {
      "text/plain": [
       "Int64Index([0, 1], dtype='int64')"
      ]
     },
     "execution_count": 34,
     "metadata": {},
     "output_type": "execute_result"
    }
   ],
   "source": [
    "df.holiday_flag.value_counts().index"
   ]
  },
  {
   "cell_type": "code",
   "execution_count": 35,
   "id": "308937ee",
   "metadata": {},
   "outputs": [
    {
     "data": {
      "image/png": "[encoded data removed]",
      "text/plain": [
       "<Figure size 800x700 with 1 Axes>"
      ]
     },
     "metadata": {},
     "output_type": "display_data"
    }
   ],
   "source": [
    "plt.figure(figsize=(8,7))\n",
    "plt.pie(x=df.holiday_flag.value_counts(),labels = df.holiday_flag.value_counts().index, autopct=\"%1.1f%%\",colors=['green','purple'])\n",
    "plt.title('Holiday flag',weight='bold')\n",
    "plt.show()"
   ]
  },
  {
   "cell_type": "markdown",
   "id": "d73b0e86",
   "metadata": {},
   "source": [
    "# Bivariate Analysis"
   ]
  },
  {
   "cell_type": "code",
   "execution_count": 36,
   "id": "c20f1b70",
   "metadata": {},
   "outputs": [],
   "source": [
    "#categorical vs categorical"
   ]
  },
  {
   "cell_type": "code",
   "execution_count": 37,
   "id": "f0afb589",
   "metadata": {},
   "outputs": [
    {
     "data": {
      "text/html": [
       "<div>\n",
       "<style scoped>\n",
       "    .dataframe tbody tr th:only-of-type {\n",
       "        vertical-align: middle;\n",
       "    }\n",
       "\n",
       "    .dataframe tbody tr th {\n",
       "        vertical-align: top;\n",
       "    }\n",
       "\n",
       "    .dataframe thead th {\n",
       "        text-align: right;\n",
       "    }\n",
       "</style>\n",
       "<table border=\"1\" class=\"dataframe\">\n",
       "  <thead>\n",
       "    <tr style=\"text-align: right;\">\n",
       "      <th></th>\n",
       "      <th>store</th>\n",
       "      <th>date</th>\n",
       "      <th>weekly_sales</th>\n",
       "      <th>holiday_flag</th>\n",
       "      <th>temperature</th>\n",
       "      <th>fuel_price</th>\n",
       "      <th>cpi</th>\n",
       "      <th>unemployment</th>\n",
       "    </tr>\n",
       "  </thead>\n",
       "  <tbody>\n",
       "    <tr>\n",
       "      <th>0</th>\n",
       "      <td>1</td>\n",
       "      <td>2010-05-02</td>\n",
       "      <td>1643690.90</td>\n",
       "      <td>0</td>\n",
       "      <td>42.31</td>\n",
       "      <td>2.572</td>\n",
       "      <td>211.096358</td>\n",
       "      <td>8.106</td>\n",
       "    </tr>\n",
       "    <tr>\n",
       "      <th>1</th>\n",
       "      <td>1</td>\n",
       "      <td>2010-12-02</td>\n",
       "      <td>1641957.44</td>\n",
       "      <td>1</td>\n",
       "      <td>38.51</td>\n",
       "      <td>2.548</td>\n",
       "      <td>211.242170</td>\n",
       "      <td>8.106</td>\n",
       "    </tr>\n",
       "    <tr>\n",
       "      <th>2</th>\n",
       "      <td>1</td>\n",
       "      <td>2010-02-19</td>\n",
       "      <td>1611968.17</td>\n",
       "      <td>0</td>\n",
       "      <td>39.93</td>\n",
       "      <td>2.514</td>\n",
       "      <td>211.289143</td>\n",
       "      <td>8.106</td>\n",
       "    </tr>\n",
       "    <tr>\n",
       "      <th>3</th>\n",
       "      <td>1</td>\n",
       "      <td>2010-02-26</td>\n",
       "      <td>1409727.59</td>\n",
       "      <td>0</td>\n",
       "      <td>46.63</td>\n",
       "      <td>2.561</td>\n",
       "      <td>211.319643</td>\n",
       "      <td>8.106</td>\n",
       "    </tr>\n",
       "    <tr>\n",
       "      <th>4</th>\n",
       "      <td>1</td>\n",
       "      <td>2010-05-03</td>\n",
       "      <td>1554806.68</td>\n",
       "      <td>0</td>\n",
       "      <td>46.50</td>\n",
       "      <td>2.625</td>\n",
       "      <td>211.350143</td>\n",
       "      <td>8.106</td>\n",
       "    </tr>\n",
       "  </tbody>\n",
       "</table>\n",
       "</div>"
      ],
      "text/plain": [
       "  store       date  weekly_sales holiday_flag  temperature  fuel_price  \\\n",
       "0     1 2010-05-02    1643690.90            0        42.31       2.572   \n",
       "1     1 2010-12-02    1641957.44            1        38.51       2.548   \n",
       "2     1 2010-02-19    1611968.17            0        39.93       2.514   \n",
       "3     1 2010-02-26    1409727.59            0        46.63       2.561   \n",
       "4     1 2010-05-03    1554806.68            0        46.50       2.625   \n",
       "\n",
       "          cpi  unemployment  \n",
       "0  211.096358         8.106  \n",
       "1  211.242170         8.106  \n",
       "2  211.289143         8.106  \n",
       "3  211.319643         8.106  \n",
       "4  211.350143         8.106  "
      ]
     },
     "execution_count": 37,
     "metadata": {},
     "output_type": "execute_result"
    }
   ],
   "source": [
    "df.head()"
   ]
  },
  {
   "cell_type": "code",
   "execution_count": null,
   "id": "c45ef46d-6036-49f0-8214-a208dea2486e",
   "metadata": {},
   "outputs": [],
   "source": []
  },
  {
   "cell_type": "code",
   "execution_count": 38,
   "id": "32e1296c",
   "metadata": {},
   "outputs": [
    {
     "data": {
      "text/plain": [
       "45"
      ]
     },
     "execution_count": 38,
     "metadata": {},
     "output_type": "execute_result"
    }
   ],
   "source": [
    "df.store.nunique()"
   ]
  },
  {
   "cell_type": "code",
   "execution_count": 39,
   "id": "9b4acdd8",
   "metadata": {},
   "outputs": [],
   "source": [
    "store_sales = df.groupby('store')['weekly_sales'].sum().reset_index()\n",
    "store_sales_sorted = store_sales.sort_values(by='weekly_sales', ascending=False)"
   ]
  },
  {
   "cell_type": "code",
   "execution_count": 40,
   "id": "1982aa47",
   "metadata": {},
   "outputs": [
    {
     "data": {
      "text/html": [
       "<div>\n",
       "<style scoped>\n",
       "    .dataframe tbody tr th:only-of-type {\n",
       "        vertical-align: middle;\n",
       "    }\n",
       "\n",
       "    .dataframe tbody tr th {\n",
       "        vertical-align: top;\n",
       "    }\n",
       "\n",
       "    .dataframe thead th {\n",
       "        text-align: right;\n",
       "    }\n",
       "</style>\n",
       "<table border=\"1\" class=\"dataframe\">\n",
       "  <thead>\n",
       "    <tr style=\"text-align: right;\">\n",
       "      <th></th>\n",
       "      <th>store</th>\n",
       "      <th>weekly_sales</th>\n",
       "    </tr>\n",
       "  </thead>\n",
       "  <tbody>\n",
       "    <tr>\n",
       "      <th>19</th>\n",
       "      <td>20</td>\n",
       "      <td>3.013978e+08</td>\n",
       "    </tr>\n",
       "    <tr>\n",
       "      <th>3</th>\n",
       "      <td>4</td>\n",
       "      <td>2.995440e+08</td>\n",
       "    </tr>\n",
       "    <tr>\n",
       "      <th>13</th>\n",
       "      <td>14</td>\n",
       "      <td>2.889999e+08</td>\n",
       "    </tr>\n",
       "    <tr>\n",
       "      <th>12</th>\n",
       "      <td>13</td>\n",
       "      <td>2.865177e+08</td>\n",
       "    </tr>\n",
       "    <tr>\n",
       "      <th>1</th>\n",
       "      <td>2</td>\n",
       "      <td>2.753824e+08</td>\n",
       "    </tr>\n",
       "  </tbody>\n",
       "</table>\n",
       "</div>"
      ],
      "text/plain": [
       "    store  weekly_sales\n",
       "19     20  3.013978e+08\n",
       "3       4  2.995440e+08\n",
       "13     14  2.889999e+08\n",
       "12     13  2.865177e+08\n",
       "1       2  2.753824e+08"
      ]
     },
     "execution_count": 40,
     "metadata": {},
     "output_type": "execute_result"
    }
   ],
   "source": [
    "store_sales_sorted.head()"
   ]
  },
  {
   "cell_type": "code",
   "execution_count": 41,
   "id": "7fbe63b4",
   "metadata": {},
   "outputs": [
    {
     "data": {
      "image/png": "[encoded data removed]",
      "text/plain": [
       "<Figure size 1000x800 with 1 Axes>"
      ]
     },
     "metadata": {},
     "output_type": "display_data"
    }
   ],
   "source": [
    "plt.figure(figsize=(10,8))\n",
    "sns.barplot(x='store',y='weekly_sales',data=store_sales_sorted,palette='viridis')\n",
    "plt.xticks(rotation=45)\n",
    "plt.show()"
   ]
  },
  {
   "cell_type": "code",
   "execution_count": 42,
   "id": "b0a5792d",
   "metadata": {},
   "outputs": [
    {
     "data": {
      "image/png": "[encoded data removed]",
      "text/plain": [
       "<Figure size 900x700 with 1 Axes>"
      ]
     },
     "metadata": {},
     "output_type": "display_data"
    }
   ],
   "source": [
    "plt.figure(figsize=(9,7))\n",
    "df.groupby('store')['weekly_sales'].sum().sort_values(ascending=False)[:5].plot(kind='bar',color=['#003f5c','purple','#bc5090','indigo','turquoise'])\n",
    "plt.show()"
   ]
  },
  {
   "cell_type": "code",
   "execution_count": 43,
   "id": "00cce06a",
   "metadata": {},
   "outputs": [
    {
     "data": {
      "text/plain": [
       "Index(['store', 'date', 'weekly_sales', 'holiday_flag', 'temperature',\n",
       "       'fuel_price', 'cpi', 'unemployment'],\n",
       "      dtype='object')"
      ]
     },
     "execution_count": 43,
     "metadata": {},
     "output_type": "execute_result"
    }
   ],
   "source": [
    "df.columns"
   ]
  },
  {
   "cell_type": "code",
   "execution_count": 44,
   "id": "3f3c1b45-402c-4405-a90f-a2c623a0b92f",
   "metadata": {
    "tags": []
   },
   "outputs": [
    {
     "data": {
      "image/png": "[encoded data removed]",
      "text/plain": [
       "<Figure size 640x480 with 1 Axes>"
      ]
     },
     "metadata": {},
     "output_type": "display_data"
    }
   ],
   "source": [
    "sns.scatterplot(data=df, x='weekly_sales',y='fuel_price')\n",
    "plt.show()"
   ]
  },
  {
   "cell_type": "markdown",
   "id": "da15a0d9",
   "metadata": {},
   "source": [
    "# T-test"
   ]
  },
  {
   "cell_type": "markdown",
   "id": "ae5cf277",
   "metadata": {},
   "source": [
    "Independent t-test for holiday vs mean of sales"
   ]
  },
  {
   "cell_type": "code",
   "execution_count": null,
   "id": "c01b43e1",
   "metadata": {},
   "outputs": [],
   "source": []
  },
  {
   "cell_type": "code",
   "execution_count": 45,
   "id": "e4fc15a7",
   "metadata": {},
   "outputs": [
    {
     "data": {
      "text/html": [
       "<div>\n",
       "<style scoped>\n",
       "    .dataframe tbody tr th:only-of-type {\n",
       "        vertical-align: middle;\n",
       "    }\n",
       "\n",
       "    .dataframe tbody tr th {\n",
       "        vertical-align: top;\n",
       "    }\n",
       "\n",
       "    .dataframe thead th {\n",
       "        text-align: right;\n",
       "    }\n",
       "</style>\n",
       "<table border=\"1\" class=\"dataframe\">\n",
       "  <thead>\n",
       "    <tr style=\"text-align: right;\">\n",
       "      <th></th>\n",
       "      <th>holiday_flag</th>\n",
       "      <th>weekly_sales</th>\n",
       "    </tr>\n",
       "  </thead>\n",
       "  <tbody>\n",
       "    <tr>\n",
       "      <th>0</th>\n",
       "      <td>1</td>\n",
       "      <td>1.122888e+06</td>\n",
       "    </tr>\n",
       "    <tr>\n",
       "      <th>1</th>\n",
       "      <td>0</td>\n",
       "      <td>1.041256e+06</td>\n",
       "    </tr>\n",
       "  </tbody>\n",
       "</table>\n",
       "</div>"
      ],
      "text/plain": [
       "   holiday_flag  weekly_sales\n",
       "0             1  1.122888e+06\n",
       "1             0  1.041256e+06"
      ]
     },
     "execution_count": 45,
     "metadata": {},
     "output_type": "execute_result"
    }
   ],
   "source": [
    "t_df = df.groupby('holiday_flag')['weekly_sales'].mean().sort_values(ascending=False).reset_index()\n",
    "t_df"
   ]
  },
  {
   "cell_type": "code",
   "execution_count": 46,
   "id": "694a2ddb",
   "metadata": {},
   "outputs": [
    {
     "data": {
      "image/png": "[encoded data removed]",
      "text/plain": [
       "<Figure size 640x480 with 1 Axes>"
      ]
     },
     "metadata": {},
     "output_type": "display_data"
    }
   ],
   "source": [
    "#weekly sales, holiday flag checking if mean of sales differ with holiday\n",
    "\n",
    "sns.barplot(x='holiday_flag', y='weekly_sales', data=t_df.head(10),palette='viridis')\n",
    "plt.show()"
   ]
  },
  {
   "cell_type": "code",
   "execution_count": 47,
   "id": "b06a5e61",
   "metadata": {},
   "outputs": [
    {
     "data": {
      "image/png": "[encoded data removed]",
      "text/plain": [
       "<Figure size 640x480 with 1 Axes>"
      ]
     },
     "metadata": {},
     "output_type": "display_data"
    }
   ],
   "source": [
    "sns.boxplot(x='holiday_flag',y='weekly_sales',data=df,palette='Set2')\n",
    "plt.show()"
   ]
  },
  {
   "cell_type": "code",
   "execution_count": 48,
   "id": "beb18d72",
   "metadata": {},
   "outputs": [
    {
     "data": {
      "text/plain": [
       "((5985, 8), (450, 8))"
      ]
     },
     "execution_count": 48,
     "metadata": {},
     "output_type": "execute_result"
    }
   ],
   "source": [
    " #independent two groups to apply a t-test\n",
    "group1 = df[df['holiday_flag']==0]\n",
    "group2 = df[df['holiday_flag']==1]\n",
    "group1.shape,group2.shape"
   ]
  },
  {
   "cell_type": "code",
   "execution_count": 49,
   "id": "e81cfba3",
   "metadata": {},
   "outputs": [
    {
     "data": {
      "image/png": "[encoded data removed]",
      "text/plain": [
       "<Figure size 640x480 with 1 Axes>"
      ]
     },
     "metadata": {},
     "output_type": "display_data"
    }
   ],
   "source": [
    "sns.kdeplot(group1['weekly_sales'],shade=True,color='blue')\n",
    "sns.kdeplot(group2['weekly_sales'], shade=True,color='red')\n",
    "plt.title(\"Independent Sample T-Test\")\n",
    "plt.show()"
   ]
  },
  {
   "cell_type": "code",
   "execution_count": 50,
   "id": "7edee97b",
   "metadata": {},
   "outputs": [],
   "source": [
    "#to check homogenity of variance between two independent groups (the hypothesis is that the variance of two groups is equal)\n",
    "#mean of two group is equal or  Variance of sales during holidays = variance of sales during non-holidays\n",
    "a=group1['weekly_sales']\n",
    "b=group2['weekly_sales']"
   ]
  },
  {
   "cell_type": "code",
   "execution_count": 51,
   "id": "12a8d9e5",
   "metadata": {},
   "outputs": [
    {
     "data": {
      "text/plain": [
       "LeveneResult(statistic=10.519203649624915, pvalue=0.0011874337918717478)"
      ]
     },
     "execution_count": 51,
     "metadata": {},
     "output_type": "execute_result"
    }
   ],
   "source": [
    "stats.levene(a,b)"
   ]
  },
  {
   "cell_type": "markdown",
   "id": "8d29e642",
   "metadata": {},
   "source": [
    "P-value suggests that we reject the null hypothesis so equality of variance isnot  satisfied hence we go for a welch t-test\n"
   ]
  },
  {
   "cell_type": "code",
   "execution_count": 52,
   "id": "c28c971b",
   "metadata": {},
   "outputs": [
    {
     "name": "stdout",
     "output_type": "stream",
     "text": [
      "-2.6800720209265423 p-value:  0.007601552012134143\n"
     ]
    }
   ],
   "source": [
    "tStat, pValue = stats.ttest_ind(a, b, equal_var = False)\n",
    "print(tStat,\"p-value: \",pValue)"
   ]
  },
  {
   "cell_type": "markdown",
   "id": "79efc434",
   "metadata": {},
   "source": [
    "P-value >0.05 suggests that we don't have enough evidence to reject the null hypothesis\n",
    "hence The mean weekly sales during holidays = mean sales during non-holidays\n",
    " "
   ]
  },
  {
   "cell_type": "code",
   "execution_count": 53,
   "id": "7d21bb28",
   "metadata": {},
   "outputs": [
    {
     "data": {
      "text/html": [
       "<div>\n",
       "<style scoped>\n",
       "    .dataframe tbody tr th:only-of-type {\n",
       "        vertical-align: middle;\n",
       "    }\n",
       "\n",
       "    .dataframe tbody tr th {\n",
       "        vertical-align: top;\n",
       "    }\n",
       "\n",
       "    .dataframe thead th {\n",
       "        text-align: right;\n",
       "    }\n",
       "</style>\n",
       "<table border=\"1\" class=\"dataframe\">\n",
       "  <thead>\n",
       "    <tr style=\"text-align: right;\">\n",
       "      <th></th>\n",
       "      <th>weekly_sales</th>\n",
       "      <th>temperature</th>\n",
       "      <th>fuel_price</th>\n",
       "      <th>cpi</th>\n",
       "      <th>unemployment</th>\n",
       "    </tr>\n",
       "  </thead>\n",
       "  <tbody>\n",
       "    <tr>\n",
       "      <th>weekly_sales</th>\n",
       "      <td>1.000000</td>\n",
       "      <td>-0.063810</td>\n",
       "      <td>0.009464</td>\n",
       "      <td>-0.072634</td>\n",
       "      <td>-0.106176</td>\n",
       "    </tr>\n",
       "    <tr>\n",
       "      <th>temperature</th>\n",
       "      <td>-0.063810</td>\n",
       "      <td>1.000000</td>\n",
       "      <td>0.144982</td>\n",
       "      <td>0.176888</td>\n",
       "      <td>0.101158</td>\n",
       "    </tr>\n",
       "    <tr>\n",
       "      <th>fuel_price</th>\n",
       "      <td>0.009464</td>\n",
       "      <td>0.144982</td>\n",
       "      <td>1.000000</td>\n",
       "      <td>-0.170642</td>\n",
       "      <td>-0.034684</td>\n",
       "    </tr>\n",
       "    <tr>\n",
       "      <th>cpi</th>\n",
       "      <td>-0.072634</td>\n",
       "      <td>0.176888</td>\n",
       "      <td>-0.170642</td>\n",
       "      <td>1.000000</td>\n",
       "      <td>-0.302020</td>\n",
       "    </tr>\n",
       "    <tr>\n",
       "      <th>unemployment</th>\n",
       "      <td>-0.106176</td>\n",
       "      <td>0.101158</td>\n",
       "      <td>-0.034684</td>\n",
       "      <td>-0.302020</td>\n",
       "      <td>1.000000</td>\n",
       "    </tr>\n",
       "  </tbody>\n",
       "</table>\n",
       "</div>"
      ],
      "text/plain": [
       "              weekly_sales  temperature  fuel_price       cpi  unemployment\n",
       "weekly_sales      1.000000    -0.063810    0.009464 -0.072634     -0.106176\n",
       "temperature      -0.063810     1.000000    0.144982  0.176888      0.101158\n",
       "fuel_price        0.009464     0.144982    1.000000 -0.170642     -0.034684\n",
       "cpi              -0.072634     0.176888   -0.170642  1.000000     -0.302020\n",
       "unemployment     -0.106176     0.101158   -0.034684 -0.302020      1.000000"
      ]
     },
     "execution_count": 53,
     "metadata": {},
     "output_type": "execute_result"
    }
   ],
   "source": [
    "df.corr()"
   ]
  },
  {
   "cell_type": "code",
   "execution_count": 54,
   "id": "45e0244d",
   "metadata": {},
   "outputs": [
    {
     "data": {
      "text/plain": [
       "<function matplotlib.pyplot.show(close=None, block=None)>"
      ]
     },
     "execution_count": 54,
     "metadata": {},
     "output_type": "execute_result"
    },
    {
     "data": {
      "image/png": "[encoded data removed]",
      "text/plain": [
       "<Figure size 1000x700 with 2 Axes>"
      ]
     },
     "metadata": {},
     "output_type": "display_data"
    }
   ],
   "source": [
    "plt.figure(figsize=(10,7))\n",
    "sns.heatmap(df.corr(),annot=True,cmap='Greens')\n",
    "plt.xticks(rotation=45)\n",
    "plt.show"
   ]
  },
  {
   "cell_type": "code",
   "execution_count": 55,
   "id": "db44653c",
   "metadata": {},
   "outputs": [
    {
     "data": {
      "text/plain": [
       "store           0\n",
       "date            0\n",
       "weekly_sales    0\n",
       "holiday_flag    0\n",
       "temperature     0\n",
       "fuel_price      0\n",
       "cpi             0\n",
       "unemployment    0\n",
       "dtype: int64"
      ]
     },
     "execution_count": 55,
     "metadata": {},
     "output_type": "execute_result"
    }
   ],
   "source": [
    "df.isnull().sum()"
   ]
  },
  {
   "cell_type": "code",
   "execution_count": 56,
   "id": "b8f48697",
   "metadata": {},
   "outputs": [
    {
     "name": "stdout",
     "output_type": "stream",
     "text": [
      "<class 'pandas.core.frame.DataFrame'>\n",
      "RangeIndex: 6435 entries, 0 to 6434\n",
      "Data columns (total 8 columns):\n",
      " #   Column        Non-Null Count  Dtype         \n",
      "---  ------        --------------  -----         \n",
      " 0   store         6435 non-null   object        \n",
      " 1   date          6435 non-null   datetime64[ns]\n",
      " 2   weekly_sales  6435 non-null   float64       \n",
      " 3   holiday_flag  6435 non-null   object        \n",
      " 4   temperature   6435 non-null   float64       \n",
      " 5   fuel_price    6435 non-null   float64       \n",
      " 6   cpi           6435 non-null   float64       \n",
      " 7   unemployment  6435 non-null   float64       \n",
      "dtypes: datetime64[ns](1), float64(5), object(2)\n",
      "memory usage: 402.3+ KB\n"
     ]
    }
   ],
   "source": [
    "df.info()"
   ]
  },
  {
   "cell_type": "code",
   "execution_count": 57,
   "id": "932a86fb",
   "metadata": {},
   "outputs": [
    {
     "data": {
      "text/plain": [
       "<Figure size 900x800 with 0 Axes>"
      ]
     },
     "metadata": {},
     "output_type": "display_data"
    },
    {
     "data": {
      "image/png": "[encoded data removed]",
      "text/plain": [
       "<Figure size 1000x800 with 6 Axes>"
      ]
     },
     "metadata": {},
     "output_type": "display_data"
    }
   ],
   "source": [
    "plt.figure(figsize=(9,8))\n",
    "df.hist(grid=True,\n",
    "       figsize=(10, 8),\n",
    "       bins=30,color='green')\n",
    "\n",
    "plt.show()"
   ]
  },
  {
   "cell_type": "code",
   "execution_count": 58,
   "id": "3742c319",
   "metadata": {},
   "outputs": [
    {
     "data": {
      "text/html": [
       "<div>\n",
       "<style scoped>\n",
       "    .dataframe tbody tr th:only-of-type {\n",
       "        vertical-align: middle;\n",
       "    }\n",
       "\n",
       "    .dataframe tbody tr th {\n",
       "        vertical-align: top;\n",
       "    }\n",
       "\n",
       "    .dataframe thead th {\n",
       "        text-align: right;\n",
       "    }\n",
       "</style>\n",
       "<table border=\"1\" class=\"dataframe\">\n",
       "  <thead>\n",
       "    <tr style=\"text-align: right;\">\n",
       "      <th></th>\n",
       "      <th>weekly_sales</th>\n",
       "      <th>temperature</th>\n",
       "      <th>fuel_price</th>\n",
       "      <th>cpi</th>\n",
       "      <th>unemployment</th>\n",
       "    </tr>\n",
       "  </thead>\n",
       "  <tbody>\n",
       "    <tr>\n",
       "      <th>count</th>\n",
       "      <td>6.435000e+03</td>\n",
       "      <td>6435.000000</td>\n",
       "      <td>6435.000000</td>\n",
       "      <td>6435.000000</td>\n",
       "      <td>6435.000000</td>\n",
       "    </tr>\n",
       "    <tr>\n",
       "      <th>mean</th>\n",
       "      <td>1.046965e+06</td>\n",
       "      <td>60.663782</td>\n",
       "      <td>3.358607</td>\n",
       "      <td>171.578394</td>\n",
       "      <td>7.999151</td>\n",
       "    </tr>\n",
       "    <tr>\n",
       "      <th>std</th>\n",
       "      <td>5.643666e+05</td>\n",
       "      <td>18.444933</td>\n",
       "      <td>0.459020</td>\n",
       "      <td>39.356712</td>\n",
       "      <td>1.875885</td>\n",
       "    </tr>\n",
       "    <tr>\n",
       "      <th>min</th>\n",
       "      <td>2.099862e+05</td>\n",
       "      <td>-2.060000</td>\n",
       "      <td>2.472000</td>\n",
       "      <td>126.064000</td>\n",
       "      <td>3.879000</td>\n",
       "    </tr>\n",
       "    <tr>\n",
       "      <th>25%</th>\n",
       "      <td>5.533501e+05</td>\n",
       "      <td>47.460000</td>\n",
       "      <td>2.933000</td>\n",
       "      <td>131.735000</td>\n",
       "      <td>6.891000</td>\n",
       "    </tr>\n",
       "    <tr>\n",
       "      <th>50%</th>\n",
       "      <td>9.607460e+05</td>\n",
       "      <td>62.670000</td>\n",
       "      <td>3.445000</td>\n",
       "      <td>182.616521</td>\n",
       "      <td>7.874000</td>\n",
       "    </tr>\n",
       "    <tr>\n",
       "      <th>75%</th>\n",
       "      <td>1.420159e+06</td>\n",
       "      <td>74.940000</td>\n",
       "      <td>3.735000</td>\n",
       "      <td>212.743293</td>\n",
       "      <td>8.622000</td>\n",
       "    </tr>\n",
       "    <tr>\n",
       "      <th>max</th>\n",
       "      <td>3.818686e+06</td>\n",
       "      <td>100.140000</td>\n",
       "      <td>4.468000</td>\n",
       "      <td>227.232807</td>\n",
       "      <td>14.313000</td>\n",
       "    </tr>\n",
       "  </tbody>\n",
       "</table>\n",
       "</div>"
      ],
      "text/plain": [
       "       weekly_sales  temperature   fuel_price          cpi  unemployment\n",
       "count  6.435000e+03  6435.000000  6435.000000  6435.000000   6435.000000\n",
       "mean   1.046965e+06    60.663782     3.358607   171.578394      7.999151\n",
       "std    5.643666e+05    18.444933     0.459020    39.356712      1.875885\n",
       "min    2.099862e+05    -2.060000     2.472000   126.064000      3.879000\n",
       "25%    5.533501e+05    47.460000     2.933000   131.735000      6.891000\n",
       "50%    9.607460e+05    62.670000     3.445000   182.616521      7.874000\n",
       "75%    1.420159e+06    74.940000     3.735000   212.743293      8.622000\n",
       "max    3.818686e+06   100.140000     4.468000   227.232807     14.313000"
      ]
     },
     "execution_count": 58,
     "metadata": {},
     "output_type": "execute_result"
    }
   ],
   "source": [
    "df.describe()"
   ]
  },
  {
   "cell_type": "code",
   "execution_count": 59,
   "id": "4f1ead83",
   "metadata": {},
   "outputs": [
    {
     "data": {
      "text/plain": [
       "Index(['store', 'date', 'weekly_sales', 'holiday_flag', 'temperature',\n",
       "       'fuel_price', 'cpi', 'unemployment'],\n",
       "      dtype='object')"
      ]
     },
     "execution_count": 59,
     "metadata": {},
     "output_type": "execute_result"
    }
   ],
   "source": [
    "df.columns"
   ]
  },
  {
   "cell_type": "code",
   "execution_count": 60,
   "id": "968c166e",
   "metadata": {},
   "outputs": [
    {
     "data": {
      "text/html": [
       "<div>\n",
       "<style scoped>\n",
       "    .dataframe tbody tr th:only-of-type {\n",
       "        vertical-align: middle;\n",
       "    }\n",
       "\n",
       "    .dataframe tbody tr th {\n",
       "        vertical-align: top;\n",
       "    }\n",
       "\n",
       "    .dataframe thead th {\n",
       "        text-align: right;\n",
       "    }\n",
       "</style>\n",
       "<table border=\"1\" class=\"dataframe\">\n",
       "  <thead>\n",
       "    <tr style=\"text-align: right;\">\n",
       "      <th></th>\n",
       "      <th>store</th>\n",
       "      <th>date</th>\n",
       "      <th>weekly_sales</th>\n",
       "      <th>holiday_flag</th>\n",
       "      <th>temperature</th>\n",
       "      <th>fuel_price</th>\n",
       "      <th>cpi</th>\n",
       "      <th>unemployment</th>\n",
       "    </tr>\n",
       "  </thead>\n",
       "  <tbody>\n",
       "    <tr>\n",
       "      <th>0</th>\n",
       "      <td>1</td>\n",
       "      <td>2010-05-02</td>\n",
       "      <td>1643690.90</td>\n",
       "      <td>0</td>\n",
       "      <td>42.31</td>\n",
       "      <td>2.572</td>\n",
       "      <td>211.096358</td>\n",
       "      <td>8.106</td>\n",
       "    </tr>\n",
       "    <tr>\n",
       "      <th>1</th>\n",
       "      <td>1</td>\n",
       "      <td>2010-12-02</td>\n",
       "      <td>1641957.44</td>\n",
       "      <td>1</td>\n",
       "      <td>38.51</td>\n",
       "      <td>2.548</td>\n",
       "      <td>211.242170</td>\n",
       "      <td>8.106</td>\n",
       "    </tr>\n",
       "    <tr>\n",
       "      <th>2</th>\n",
       "      <td>1</td>\n",
       "      <td>2010-02-19</td>\n",
       "      <td>1611968.17</td>\n",
       "      <td>0</td>\n",
       "      <td>39.93</td>\n",
       "      <td>2.514</td>\n",
       "      <td>211.289143</td>\n",
       "      <td>8.106</td>\n",
       "    </tr>\n",
       "    <tr>\n",
       "      <th>3</th>\n",
       "      <td>1</td>\n",
       "      <td>2010-02-26</td>\n",
       "      <td>1409727.59</td>\n",
       "      <td>0</td>\n",
       "      <td>46.63</td>\n",
       "      <td>2.561</td>\n",
       "      <td>211.319643</td>\n",
       "      <td>8.106</td>\n",
       "    </tr>\n",
       "    <tr>\n",
       "      <th>4</th>\n",
       "      <td>1</td>\n",
       "      <td>2010-05-03</td>\n",
       "      <td>1554806.68</td>\n",
       "      <td>0</td>\n",
       "      <td>46.50</td>\n",
       "      <td>2.625</td>\n",
       "      <td>211.350143</td>\n",
       "      <td>8.106</td>\n",
       "    </tr>\n",
       "  </tbody>\n",
       "</table>\n",
       "</div>"
      ],
      "text/plain": [
       "  store       date  weekly_sales holiday_flag  temperature  fuel_price  \\\n",
       "0     1 2010-05-02    1643690.90            0        42.31       2.572   \n",
       "1     1 2010-12-02    1641957.44            1        38.51       2.548   \n",
       "2     1 2010-02-19    1611968.17            0        39.93       2.514   \n",
       "3     1 2010-02-26    1409727.59            0        46.63       2.561   \n",
       "4     1 2010-05-03    1554806.68            0        46.50       2.625   \n",
       "\n",
       "          cpi  unemployment  \n",
       "0  211.096358         8.106  \n",
       "1  211.242170         8.106  \n",
       "2  211.289143         8.106  \n",
       "3  211.319643         8.106  \n",
       "4  211.350143         8.106  "
      ]
     },
     "execution_count": 60,
     "metadata": {},
     "output_type": "execute_result"
    }
   ],
   "source": [
    "df.head()"
   ]
  },
  {
   "cell_type": "code",
   "execution_count": 61,
   "id": "b58863da",
   "metadata": {},
   "outputs": [],
   "source": [
    "#transforming date into day, month, week and year\n",
    "df['weekday'] = df['date'].dt.weekday\n",
    "df['month'] = df['date'].dt.month\n",
    "df['year'] = df['date'].dt.year\n"
   ]
  },
  {
   "cell_type": "code",
   "execution_count": 62,
   "id": "f9a9cb63",
   "metadata": {},
   "outputs": [
    {
     "data": {
      "text/plain": [
       "array([2010, 2011, 2012], dtype=int64)"
      ]
     },
     "execution_count": 62,
     "metadata": {},
     "output_type": "execute_result"
    }
   ],
   "source": [
    "df.year.unique()"
   ]
  },
  {
   "cell_type": "code",
   "execution_count": 63,
   "id": "e28846d1",
   "metadata": {},
   "outputs": [],
   "source": [
    "df=df.drop('date',axis=1)"
   ]
  },
  {
   "cell_type": "code",
   "execution_count": 64,
   "id": "c4b01f76",
   "metadata": {},
   "outputs": [],
   "source": [
    "df['weekday'] = df['weekday'].astype('object')\n",
    "df['month'] = df['month'].astype('object')\n"
   ]
  },
  {
   "cell_type": "markdown",
   "id": "eacd49ae",
   "metadata": {},
   "source": [
    "def hourCat(hour):\n",
    "    if 0 <= hour < 6:\n",
    "        return 'Night'\n",
    "    elif 6 <=hour <12:\n",
    "        return 'Morning'\n",
    "    elif 12 <= hour < 18:\n",
    "        return 'Afternoon'\n",
    "    else:\n",
    "        return 'Evening'"
   ]
  },
  {
   "cell_type": "markdown",
   "id": "2d0010e9",
   "metadata": {},
   "source": [
    "df['hour_bin'] = df['hour'].map(hourCat)"
   ]
  },
  {
   "cell_type": "code",
   "execution_count": 65,
   "id": "83382a44",
   "metadata": {},
   "outputs": [
    {
     "data": {
      "text/html": [
       "<div>\n",
       "<style scoped>\n",
       "    .dataframe tbody tr th:only-of-type {\n",
       "        vertical-align: middle;\n",
       "    }\n",
       "\n",
       "    .dataframe tbody tr th {\n",
       "        vertical-align: top;\n",
       "    }\n",
       "\n",
       "    .dataframe thead th {\n",
       "        text-align: right;\n",
       "    }\n",
       "</style>\n",
       "<table border=\"1\" class=\"dataframe\">\n",
       "  <thead>\n",
       "    <tr style=\"text-align: right;\">\n",
       "      <th></th>\n",
       "      <th>store</th>\n",
       "      <th>weekly_sales</th>\n",
       "      <th>holiday_flag</th>\n",
       "      <th>temperature</th>\n",
       "      <th>fuel_price</th>\n",
       "      <th>cpi</th>\n",
       "      <th>unemployment</th>\n",
       "      <th>weekday</th>\n",
       "      <th>month</th>\n",
       "      <th>year</th>\n",
       "    </tr>\n",
       "  </thead>\n",
       "  <tbody>\n",
       "    <tr>\n",
       "      <th>0</th>\n",
       "      <td>1</td>\n",
       "      <td>1643690.90</td>\n",
       "      <td>0</td>\n",
       "      <td>42.31</td>\n",
       "      <td>2.572</td>\n",
       "      <td>211.096358</td>\n",
       "      <td>8.106</td>\n",
       "      <td>6</td>\n",
       "      <td>5</td>\n",
       "      <td>2010</td>\n",
       "    </tr>\n",
       "    <tr>\n",
       "      <th>1</th>\n",
       "      <td>1</td>\n",
       "      <td>1641957.44</td>\n",
       "      <td>1</td>\n",
       "      <td>38.51</td>\n",
       "      <td>2.548</td>\n",
       "      <td>211.242170</td>\n",
       "      <td>8.106</td>\n",
       "      <td>3</td>\n",
       "      <td>12</td>\n",
       "      <td>2010</td>\n",
       "    </tr>\n",
       "    <tr>\n",
       "      <th>2</th>\n",
       "      <td>1</td>\n",
       "      <td>1611968.17</td>\n",
       "      <td>0</td>\n",
       "      <td>39.93</td>\n",
       "      <td>2.514</td>\n",
       "      <td>211.289143</td>\n",
       "      <td>8.106</td>\n",
       "      <td>4</td>\n",
       "      <td>2</td>\n",
       "      <td>2010</td>\n",
       "    </tr>\n",
       "    <tr>\n",
       "      <th>3</th>\n",
       "      <td>1</td>\n",
       "      <td>1409727.59</td>\n",
       "      <td>0</td>\n",
       "      <td>46.63</td>\n",
       "      <td>2.561</td>\n",
       "      <td>211.319643</td>\n",
       "      <td>8.106</td>\n",
       "      <td>4</td>\n",
       "      <td>2</td>\n",
       "      <td>2010</td>\n",
       "    </tr>\n",
       "    <tr>\n",
       "      <th>4</th>\n",
       "      <td>1</td>\n",
       "      <td>1554806.68</td>\n",
       "      <td>0</td>\n",
       "      <td>46.50</td>\n",
       "      <td>2.625</td>\n",
       "      <td>211.350143</td>\n",
       "      <td>8.106</td>\n",
       "      <td>0</td>\n",
       "      <td>5</td>\n",
       "      <td>2010</td>\n",
       "    </tr>\n",
       "  </tbody>\n",
       "</table>\n",
       "</div>"
      ],
      "text/plain": [
       "  store  weekly_sales holiday_flag  temperature  fuel_price         cpi  \\\n",
       "0     1    1643690.90            0        42.31       2.572  211.096358   \n",
       "1     1    1641957.44            1        38.51       2.548  211.242170   \n",
       "2     1    1611968.17            0        39.93       2.514  211.289143   \n",
       "3     1    1409727.59            0        46.63       2.561  211.319643   \n",
       "4     1    1554806.68            0        46.50       2.625  211.350143   \n",
       "\n",
       "   unemployment weekday month  year  \n",
       "0         8.106       6     5  2010  \n",
       "1         8.106       3    12  2010  \n",
       "2         8.106       4     2  2010  \n",
       "3         8.106       4     2  2010  \n",
       "4         8.106       0     5  2010  "
      ]
     },
     "execution_count": 65,
     "metadata": {},
     "output_type": "execute_result"
    }
   ],
   "source": [
    "df.head()"
   ]
  },
  {
   "cell_type": "markdown",
   "id": "6f7dcf85",
   "metadata": {},
   "source": [
    "# Univariate Analysis"
   ]
  },
  {
   "cell_type": "code",
   "execution_count": 66,
   "id": "a55d61c7",
   "metadata": {},
   "outputs": [
    {
     "data": {
      "image/png": "[encoded data removed]",
      "text/plain": [
       "<Figure size 640x480 with 1 Axes>"
      ]
     },
     "metadata": {},
     "output_type": "display_data"
    }
   ],
   "source": [
    "#numerical feature\n",
    "#temperature\n",
    "sns.distplot(df.temperature)\n",
    "plt.show()"
   ]
  },
  {
   "cell_type": "code",
   "execution_count": 67,
   "id": "78a0fe07",
   "metadata": {},
   "outputs": [
    {
     "data": {
      "image/png": "[encoded data removed]",
      "text/plain": [
       "<Figure size 640x480 with 1 Axes>"
      ]
     },
     "metadata": {},
     "output_type": "display_data"
    }
   ],
   "source": [
    "sns.boxplot(df.temperature)\n",
    "plt.show()"
   ]
  },
  {
   "cell_type": "markdown",
   "id": "69465dfa",
   "metadata": {},
   "source": [
    "# Bivariate Analysis"
   ]
  },
  {
   "cell_type": "code",
   "execution_count": 68,
   "id": "35c81562",
   "metadata": {
    "tags": []
   },
   "outputs": [
    {
     "data": {
      "text/plain": [
       "Index(['store', 'weekly_sales', 'holiday_flag', 'temperature', 'fuel_price',\n",
       "       'cpi', 'unemployment', 'weekday', 'month', 'year'],\n",
       "      dtype='object')"
      ]
     },
     "execution_count": 68,
     "metadata": {},
     "output_type": "execute_result"
    }
   ],
   "source": [
    "df.columns"
   ]
  },
  {
   "cell_type": "code",
   "execution_count": 69,
   "id": "a43c6a4f",
   "metadata": {},
   "outputs": [
    {
     "data": {
      "image/png": "[encoded data removed]",
      "text/plain": [
       "<Figure size 640x480 with 1 Axes>"
      ]
     },
     "metadata": {},
     "output_type": "display_data"
    }
   ],
   "source": [
    "df.groupby('weekday').agg({'weekly_sales':'sum'}).plot(kind='line',marker='o',title='Sales Over Weekdays')\n",
    "plt.ylabel('Weekly Sales')\n",
    "plt.show()"
   ]
  },
  {
   "cell_type": "code",
   "execution_count": 70,
   "id": "5c4a7e98",
   "metadata": {},
   "outputs": [
    {
     "data": {
      "image/png": "[encoded data removed]",
      "text/plain": [
       "<Figure size 640x480 with 1 Axes>"
      ]
     },
     "metadata": {},
     "output_type": "display_data"
    }
   ],
   "source": [
    "sns.lineplot(data=df,x='month',y='weekly_sales',color='Green')\n",
    "\n",
    "plt.show()"
   ]
  },
  {
   "cell_type": "code",
   "execution_count": 71,
   "id": "6a1322e5",
   "metadata": {},
   "outputs": [
    {
     "data": {
      "text/html": [
       "<div>\n",
       "<style scoped>\n",
       "    .dataframe tbody tr th:only-of-type {\n",
       "        vertical-align: middle;\n",
       "    }\n",
       "\n",
       "    .dataframe tbody tr th {\n",
       "        vertical-align: top;\n",
       "    }\n",
       "\n",
       "    .dataframe thead th {\n",
       "        text-align: right;\n",
       "    }\n",
       "</style>\n",
       "<table border=\"1\" class=\"dataframe\">\n",
       "  <thead>\n",
       "    <tr style=\"text-align: right;\">\n",
       "      <th></th>\n",
       "      <th>store</th>\n",
       "      <th>weekly_sales</th>\n",
       "      <th>holiday_flag</th>\n",
       "      <th>temperature</th>\n",
       "      <th>fuel_price</th>\n",
       "      <th>cpi</th>\n",
       "      <th>unemployment</th>\n",
       "      <th>weekday</th>\n",
       "      <th>month</th>\n",
       "      <th>year</th>\n",
       "    </tr>\n",
       "  </thead>\n",
       "  <tbody>\n",
       "    <tr>\n",
       "      <th>0</th>\n",
       "      <td>1</td>\n",
       "      <td>1643690.90</td>\n",
       "      <td>0</td>\n",
       "      <td>42.31</td>\n",
       "      <td>2.572</td>\n",
       "      <td>211.096358</td>\n",
       "      <td>8.106</td>\n",
       "      <td>6</td>\n",
       "      <td>5</td>\n",
       "      <td>2010</td>\n",
       "    </tr>\n",
       "    <tr>\n",
       "      <th>1</th>\n",
       "      <td>1</td>\n",
       "      <td>1641957.44</td>\n",
       "      <td>1</td>\n",
       "      <td>38.51</td>\n",
       "      <td>2.548</td>\n",
       "      <td>211.242170</td>\n",
       "      <td>8.106</td>\n",
       "      <td>3</td>\n",
       "      <td>12</td>\n",
       "      <td>2010</td>\n",
       "    </tr>\n",
       "    <tr>\n",
       "      <th>2</th>\n",
       "      <td>1</td>\n",
       "      <td>1611968.17</td>\n",
       "      <td>0</td>\n",
       "      <td>39.93</td>\n",
       "      <td>2.514</td>\n",
       "      <td>211.289143</td>\n",
       "      <td>8.106</td>\n",
       "      <td>4</td>\n",
       "      <td>2</td>\n",
       "      <td>2010</td>\n",
       "    </tr>\n",
       "    <tr>\n",
       "      <th>3</th>\n",
       "      <td>1</td>\n",
       "      <td>1409727.59</td>\n",
       "      <td>0</td>\n",
       "      <td>46.63</td>\n",
       "      <td>2.561</td>\n",
       "      <td>211.319643</td>\n",
       "      <td>8.106</td>\n",
       "      <td>4</td>\n",
       "      <td>2</td>\n",
       "      <td>2010</td>\n",
       "    </tr>\n",
       "    <tr>\n",
       "      <th>4</th>\n",
       "      <td>1</td>\n",
       "      <td>1554806.68</td>\n",
       "      <td>0</td>\n",
       "      <td>46.50</td>\n",
       "      <td>2.625</td>\n",
       "      <td>211.350143</td>\n",
       "      <td>8.106</td>\n",
       "      <td>0</td>\n",
       "      <td>5</td>\n",
       "      <td>2010</td>\n",
       "    </tr>\n",
       "  </tbody>\n",
       "</table>\n",
       "</div>"
      ],
      "text/plain": [
       "  store  weekly_sales holiday_flag  temperature  fuel_price         cpi  \\\n",
       "0     1    1643690.90            0        42.31       2.572  211.096358   \n",
       "1     1    1641957.44            1        38.51       2.548  211.242170   \n",
       "2     1    1611968.17            0        39.93       2.514  211.289143   \n",
       "3     1    1409727.59            0        46.63       2.561  211.319643   \n",
       "4     1    1554806.68            0        46.50       2.625  211.350143   \n",
       "\n",
       "   unemployment weekday month  year  \n",
       "0         8.106       6     5  2010  \n",
       "1         8.106       3    12  2010  \n",
       "2         8.106       4     2  2010  \n",
       "3         8.106       4     2  2010  \n",
       "4         8.106       0     5  2010  "
      ]
     },
     "execution_count": 71,
     "metadata": {},
     "output_type": "execute_result"
    }
   ],
   "source": [
    "df.head()"
   ]
  },
  {
   "cell_type": "code",
   "execution_count": 72,
   "id": "0d133e4a",
   "metadata": {},
   "outputs": [
    {
     "name": "stdout",
     "output_type": "stream",
     "text": [
      "<class 'pandas.core.frame.DataFrame'>\n",
      "RangeIndex: 6435 entries, 0 to 6434\n",
      "Data columns (total 10 columns):\n",
      " #   Column        Non-Null Count  Dtype  \n",
      "---  ------        --------------  -----  \n",
      " 0   store         6435 non-null   object \n",
      " 1   weekly_sales  6435 non-null   float64\n",
      " 2   holiday_flag  6435 non-null   object \n",
      " 3   temperature   6435 non-null   float64\n",
      " 4   fuel_price    6435 non-null   float64\n",
      " 5   cpi           6435 non-null   float64\n",
      " 6   unemployment  6435 non-null   float64\n",
      " 7   weekday       6435 non-null   object \n",
      " 8   month         6435 non-null   object \n",
      " 9   year          6435 non-null   int64  \n",
      "dtypes: float64(5), int64(1), object(4)\n",
      "memory usage: 502.9+ KB\n"
     ]
    }
   ],
   "source": [
    "df.info()"
   ]
  },
  {
   "cell_type": "code",
   "execution_count": 73,
   "id": "1043696e",
   "metadata": {},
   "outputs": [
    {
     "data": {
      "text/html": [
       "<div>\n",
       "<style scoped>\n",
       "    .dataframe tbody tr th:only-of-type {\n",
       "        vertical-align: middle;\n",
       "    }\n",
       "\n",
       "    .dataframe tbody tr th {\n",
       "        vertical-align: top;\n",
       "    }\n",
       "\n",
       "    .dataframe thead th {\n",
       "        text-align: right;\n",
       "    }\n",
       "</style>\n",
       "<table border=\"1\" class=\"dataframe\">\n",
       "  <thead>\n",
       "    <tr style=\"text-align: right;\">\n",
       "      <th></th>\n",
       "      <th>weekly_sales</th>\n",
       "      <th>temperature</th>\n",
       "      <th>fuel_price</th>\n",
       "      <th>cpi</th>\n",
       "      <th>unemployment</th>\n",
       "      <th>year</th>\n",
       "    </tr>\n",
       "  </thead>\n",
       "  <tbody>\n",
       "    <tr>\n",
       "      <th>count</th>\n",
       "      <td>6.435000e+03</td>\n",
       "      <td>6435.000000</td>\n",
       "      <td>6435.000000</td>\n",
       "      <td>6435.000000</td>\n",
       "      <td>6435.000000</td>\n",
       "      <td>6435.000000</td>\n",
       "    </tr>\n",
       "    <tr>\n",
       "      <th>mean</th>\n",
       "      <td>1.046965e+06</td>\n",
       "      <td>60.663782</td>\n",
       "      <td>3.358607</td>\n",
       "      <td>171.578394</td>\n",
       "      <td>7.999151</td>\n",
       "      <td>2010.965035</td>\n",
       "    </tr>\n",
       "    <tr>\n",
       "      <th>std</th>\n",
       "      <td>5.643666e+05</td>\n",
       "      <td>18.444933</td>\n",
       "      <td>0.459020</td>\n",
       "      <td>39.356712</td>\n",
       "      <td>1.875885</td>\n",
       "      <td>0.797019</td>\n",
       "    </tr>\n",
       "    <tr>\n",
       "      <th>min</th>\n",
       "      <td>2.099862e+05</td>\n",
       "      <td>-2.060000</td>\n",
       "      <td>2.472000</td>\n",
       "      <td>126.064000</td>\n",
       "      <td>3.879000</td>\n",
       "      <td>2010.000000</td>\n",
       "    </tr>\n",
       "    <tr>\n",
       "      <th>25%</th>\n",
       "      <td>5.533501e+05</td>\n",
       "      <td>47.460000</td>\n",
       "      <td>2.933000</td>\n",
       "      <td>131.735000</td>\n",
       "      <td>6.891000</td>\n",
       "      <td>2010.000000</td>\n",
       "    </tr>\n",
       "    <tr>\n",
       "      <th>50%</th>\n",
       "      <td>9.607460e+05</td>\n",
       "      <td>62.670000</td>\n",
       "      <td>3.445000</td>\n",
       "      <td>182.616521</td>\n",
       "      <td>7.874000</td>\n",
       "      <td>2011.000000</td>\n",
       "    </tr>\n",
       "    <tr>\n",
       "      <th>75%</th>\n",
       "      <td>1.420159e+06</td>\n",
       "      <td>74.940000</td>\n",
       "      <td>3.735000</td>\n",
       "      <td>212.743293</td>\n",
       "      <td>8.622000</td>\n",
       "      <td>2012.000000</td>\n",
       "    </tr>\n",
       "    <tr>\n",
       "      <th>max</th>\n",
       "      <td>3.818686e+06</td>\n",
       "      <td>100.140000</td>\n",
       "      <td>4.468000</td>\n",
       "      <td>227.232807</td>\n",
       "      <td>14.313000</td>\n",
       "      <td>2012.000000</td>\n",
       "    </tr>\n",
       "  </tbody>\n",
       "</table>\n",
       "</div>"
      ],
      "text/plain": [
       "       weekly_sales  temperature   fuel_price          cpi  unemployment  \\\n",
       "count  6.435000e+03  6435.000000  6435.000000  6435.000000   6435.000000   \n",
       "mean   1.046965e+06    60.663782     3.358607   171.578394      7.999151   \n",
       "std    5.643666e+05    18.444933     0.459020    39.356712      1.875885   \n",
       "min    2.099862e+05    -2.060000     2.472000   126.064000      3.879000   \n",
       "25%    5.533501e+05    47.460000     2.933000   131.735000      6.891000   \n",
       "50%    9.607460e+05    62.670000     3.445000   182.616521      7.874000   \n",
       "75%    1.420159e+06    74.940000     3.735000   212.743293      8.622000   \n",
       "max    3.818686e+06   100.140000     4.468000   227.232807     14.313000   \n",
       "\n",
       "              year  \n",
       "count  6435.000000  \n",
       "mean   2010.965035  \n",
       "std       0.797019  \n",
       "min    2010.000000  \n",
       "25%    2010.000000  \n",
       "50%    2011.000000  \n",
       "75%    2012.000000  \n",
       "max    2012.000000  "
      ]
     },
     "execution_count": 73,
     "metadata": {},
     "output_type": "execute_result"
    }
   ],
   "source": [
    "df.describe()"
   ]
  },
  {
   "cell_type": "markdown",
   "id": "7c42d062",
   "metadata": {},
   "source": [
    "# PCA"
   ]
  },
  {
   "cell_type": "code",
   "execution_count": 74,
   "id": "5ae4812a",
   "metadata": {},
   "outputs": [
    {
     "data": {
      "text/html": [
       "<div>\n",
       "<style scoped>\n",
       "    .dataframe tbody tr th:only-of-type {\n",
       "        vertical-align: middle;\n",
       "    }\n",
       "\n",
       "    .dataframe tbody tr th {\n",
       "        vertical-align: top;\n",
       "    }\n",
       "\n",
       "    .dataframe thead th {\n",
       "        text-align: right;\n",
       "    }\n",
       "</style>\n",
       "<table border=\"1\" class=\"dataframe\">\n",
       "  <thead>\n",
       "    <tr style=\"text-align: right;\">\n",
       "      <th></th>\n",
       "      <th>store</th>\n",
       "      <th>weekly_sales</th>\n",
       "      <th>holiday_flag</th>\n",
       "      <th>temperature</th>\n",
       "      <th>fuel_price</th>\n",
       "      <th>cpi</th>\n",
       "      <th>unemployment</th>\n",
       "      <th>weekday</th>\n",
       "      <th>month</th>\n",
       "      <th>year</th>\n",
       "    </tr>\n",
       "  </thead>\n",
       "  <tbody>\n",
       "    <tr>\n",
       "      <th>0</th>\n",
       "      <td>1</td>\n",
       "      <td>1643690.90</td>\n",
       "      <td>0</td>\n",
       "      <td>42.31</td>\n",
       "      <td>2.572</td>\n",
       "      <td>211.096358</td>\n",
       "      <td>8.106</td>\n",
       "      <td>6</td>\n",
       "      <td>5</td>\n",
       "      <td>2010</td>\n",
       "    </tr>\n",
       "    <tr>\n",
       "      <th>1</th>\n",
       "      <td>1</td>\n",
       "      <td>1641957.44</td>\n",
       "      <td>1</td>\n",
       "      <td>38.51</td>\n",
       "      <td>2.548</td>\n",
       "      <td>211.242170</td>\n",
       "      <td>8.106</td>\n",
       "      <td>3</td>\n",
       "      <td>12</td>\n",
       "      <td>2010</td>\n",
       "    </tr>\n",
       "    <tr>\n",
       "      <th>2</th>\n",
       "      <td>1</td>\n",
       "      <td>1611968.17</td>\n",
       "      <td>0</td>\n",
       "      <td>39.93</td>\n",
       "      <td>2.514</td>\n",
       "      <td>211.289143</td>\n",
       "      <td>8.106</td>\n",
       "      <td>4</td>\n",
       "      <td>2</td>\n",
       "      <td>2010</td>\n",
       "    </tr>\n",
       "    <tr>\n",
       "      <th>3</th>\n",
       "      <td>1</td>\n",
       "      <td>1409727.59</td>\n",
       "      <td>0</td>\n",
       "      <td>46.63</td>\n",
       "      <td>2.561</td>\n",
       "      <td>211.319643</td>\n",
       "      <td>8.106</td>\n",
       "      <td>4</td>\n",
       "      <td>2</td>\n",
       "      <td>2010</td>\n",
       "    </tr>\n",
       "    <tr>\n",
       "      <th>4</th>\n",
       "      <td>1</td>\n",
       "      <td>1554806.68</td>\n",
       "      <td>0</td>\n",
       "      <td>46.50</td>\n",
       "      <td>2.625</td>\n",
       "      <td>211.350143</td>\n",
       "      <td>8.106</td>\n",
       "      <td>0</td>\n",
       "      <td>5</td>\n",
       "      <td>2010</td>\n",
       "    </tr>\n",
       "  </tbody>\n",
       "</table>\n",
       "</div>"
      ],
      "text/plain": [
       "  store  weekly_sales holiday_flag  temperature  fuel_price         cpi  \\\n",
       "0     1    1643690.90            0        42.31       2.572  211.096358   \n",
       "1     1    1641957.44            1        38.51       2.548  211.242170   \n",
       "2     1    1611968.17            0        39.93       2.514  211.289143   \n",
       "3     1    1409727.59            0        46.63       2.561  211.319643   \n",
       "4     1    1554806.68            0        46.50       2.625  211.350143   \n",
       "\n",
       "   unemployment weekday month  year  \n",
       "0         8.106       6     5  2010  \n",
       "1         8.106       3    12  2010  \n",
       "2         8.106       4     2  2010  \n",
       "3         8.106       4     2  2010  \n",
       "4         8.106       0     5  2010  "
      ]
     },
     "execution_count": 74,
     "metadata": {},
     "output_type": "execute_result"
    }
   ],
   "source": [
    "df.head()"
   ]
  },
  {
   "cell_type": "code",
   "execution_count": 75,
   "id": "00cf657f",
   "metadata": {},
   "outputs": [],
   "source": [
    "X = df.drop(['weekly_sales','store'],axis=1)\n",
    "y = df['weekly_sales']"
   ]
  },
  {
   "cell_type": "code",
   "execution_count": 76,
   "id": "84dd5070",
   "metadata": {},
   "outputs": [],
   "source": [
    "sc = StandardScaler()"
   ]
  },
  {
   "cell_type": "code",
   "execution_count": 77,
   "id": "6480c57e",
   "metadata": {},
   "outputs": [],
   "source": [
    "X_sc = sc.fit_transform(X)"
   ]
  },
  {
   "cell_type": "code",
   "execution_count": 78,
   "id": "1fcee5d1",
   "metadata": {},
   "outputs": [
    {
     "data": {
      "text/plain": [
       "(6435, 8)"
      ]
     },
     "execution_count": 78,
     "metadata": {},
     "output_type": "execute_result"
    }
   ],
   "source": [
    "X_sc.shape"
   ]
  },
  {
   "cell_type": "code",
   "execution_count": 79,
   "id": "a1c05344",
   "metadata": {},
   "outputs": [],
   "source": [
    "pca = PCA(n_components = 8)\n",
    "principalComponents = pca.fit_transform(X_sc)"
   ]
  },
  {
   "cell_type": "code",
   "execution_count": 80,
   "id": "55a213ca",
   "metadata": {},
   "outputs": [
    {
     "data": {
      "text/plain": [
       "array([[-0.27420425, -0.99513556, -1.71379998, ...,  1.70110303,\n",
       "        -0.44422923, -1.21089907],\n",
       "       [ 3.64691651, -1.20117022, -1.76608938, ..., -0.40198976,\n",
       "         1.66322793, -1.21089907],\n",
       "       [-0.27420425, -1.12417832, -1.84016603, ...,  0.29904117,\n",
       "        -1.34742516, -1.21089907],\n",
       "       ...,\n",
       "       [-0.27420425, -0.33582468,  1.39741931, ..., -2.50508255,\n",
       "         1.66322793,  1.29864538],\n",
       "       [-0.27420425, -0.22738539,  1.32987884, ...,  0.29904117,\n",
       "         1.06109731,  1.29864538],\n",
       "       [-0.27420425, -0.09834264,  1.14032976, ...,  0.29904117,\n",
       "         1.06109731,  1.29864538]])"
      ]
     },
     "execution_count": 80,
     "metadata": {},
     "output_type": "execute_result"
    }
   ],
   "source": [
    "X_sc"
   ]
  },
  {
   "cell_type": "code",
   "execution_count": 81,
   "id": "62cb2c76",
   "metadata": {},
   "outputs": [
    {
     "data": {
      "text/plain": [
       "(6435, 8)"
      ]
     },
     "execution_count": 81,
     "metadata": {},
     "output_type": "execute_result"
    }
   ],
   "source": [
    "X_sc.shape"
   ]
  },
  {
   "cell_type": "code",
   "execution_count": 82,
   "id": "0d02ecbd",
   "metadata": {},
   "outputs": [
    {
     "data": {
      "text/plain": [
       "1.0"
      ]
     },
     "execution_count": 82,
     "metadata": {},
     "output_type": "execute_result"
    }
   ],
   "source": [
    "pca.explained_variance_ratio_.sum()\n"
   ]
  },
  {
   "cell_type": "code",
   "execution_count": 83,
   "id": "07b8005b",
   "metadata": {},
   "outputs": [
    {
     "data": {
      "text/plain": [
       "0.916820057380733"
      ]
     },
     "execution_count": 83,
     "metadata": {},
     "output_type": "execute_result"
    }
   ],
   "source": [
    "pca.explained_variance_ratio_[:6].sum()"
   ]
  },
  {
   "cell_type": "code",
   "execution_count": 84,
   "id": "70903aa6",
   "metadata": {},
   "outputs": [],
   "source": [
    "cum_exp_var = []\n",
    "s=0\n",
    "for i in pca.explained_variance_ratio_:\n",
    "    s+=i\n",
    "    cum_exp_var.append(s)"
   ]
  },
  {
   "cell_type": "code",
   "execution_count": 85,
   "id": "0be31999",
   "metadata": {},
   "outputs": [
    {
     "data": {
      "text/plain": [
       "Text(0, 0.5, 'Cumulative variance explained')"
      ]
     },
     "execution_count": 85,
     "metadata": {},
     "output_type": "execute_result"
    },
    {
     "data": {
      "image/png": "[encoded data removed]",
      "text/plain": [
       "<Figure size 640x480 with 1 Axes>"
      ]
     },
     "metadata": {},
     "output_type": "display_data"
    }
   ],
   "source": [
    "plt.plot(range(8),cum_exp_var) \n",
    "plt.xlabel('No. of Principal components')\n",
    "plt.ylabel('Cumulative variance explained')"
   ]
  },
  {
   "cell_type": "markdown",
   "id": "70ee658e-c74d-4793-8cbb-2afc238383f0",
   "metadata": {},
   "source": [
    "# Applying PCA is not relevant to the dataset is not significant hence we go with original features of the dataset"
   ]
  },
  {
   "cell_type": "markdown",
   "id": "bb63837b-7f7f-4432-a083-b94f398878f6",
   "metadata": {},
   "source": [
    "# when not to use PCA\n",
    "1. when dataframe contains categorical features significantly\n",
    "2. when relationship is not linear"
   ]
  },
  {
   "cell_type": "markdown",
   "id": "290679e1-4fec-44db-9518-d0e5aa6999c9",
   "metadata": {},
   "source": [
    "# MODELING"
   ]
  },
  {
   "cell_type": "markdown",
   "id": "07d017ae-8ff3-4bc3-998a-74f2bb8e9b60",
   "metadata": {
    "tags": []
   },
   "source": [
    "# LINEAR REGRESSION"
   ]
  },
  {
   "cell_type": "code",
   "execution_count": 86,
   "id": "e59c537d-f693-4cbf-a266-ea55cdd1574a",
   "metadata": {},
   "outputs": [],
   "source": [
    "#assumption is there is no linear relationship"
   ]
  },
  {
   "cell_type": "code",
   "execution_count": 87,
   "id": "ec1662a0-12bd-4aa7-a76f-83a675855e2c",
   "metadata": {
    "tags": []
   },
   "outputs": [],
   "source": [
    "#using ordinary least square\n",
    "#define response variable\n",
    "y = df['weekly_sales']\n",
    "X = df.drop(['weekly_sales','store'],axis=1)"
   ]
  },
  {
   "cell_type": "code",
   "execution_count": 88,
   "id": "e0fda5b9-da76-4248-aa61-ad7ffc7e1cf6",
   "metadata": {
    "tags": []
   },
   "outputs": [
    {
     "data": {
      "text/plain": [
       "0    1643690.90\n",
       "1    1641957.44\n",
       "2    1611968.17\n",
       "3    1409727.59\n",
       "4    1554806.68\n",
       "Name: weekly_sales, dtype: float64"
      ]
     },
     "execution_count": 88,
     "metadata": {},
     "output_type": "execute_result"
    }
   ],
   "source": [
    "y.head()"
   ]
  },
  {
   "cell_type": "code",
   "execution_count": 89,
   "id": "f5fb9b17-b58e-48a4-823c-fc197aafd6ac",
   "metadata": {
    "tags": []
   },
   "outputs": [
    {
     "data": {
      "text/html": [
       "<div>\n",
       "<style scoped>\n",
       "    .dataframe tbody tr th:only-of-type {\n",
       "        vertical-align: middle;\n",
       "    }\n",
       "\n",
       "    .dataframe tbody tr th {\n",
       "        vertical-align: top;\n",
       "    }\n",
       "\n",
       "    .dataframe thead th {\n",
       "        text-align: right;\n",
       "    }\n",
       "</style>\n",
       "<table border=\"1\" class=\"dataframe\">\n",
       "  <thead>\n",
       "    <tr style=\"text-align: right;\">\n",
       "      <th></th>\n",
       "      <th>holiday_flag</th>\n",
       "      <th>temperature</th>\n",
       "      <th>fuel_price</th>\n",
       "      <th>cpi</th>\n",
       "      <th>unemployment</th>\n",
       "      <th>weekday</th>\n",
       "      <th>month</th>\n",
       "      <th>year</th>\n",
       "    </tr>\n",
       "  </thead>\n",
       "  <tbody>\n",
       "    <tr>\n",
       "      <th>0</th>\n",
       "      <td>0</td>\n",
       "      <td>42.31</td>\n",
       "      <td>2.572</td>\n",
       "      <td>211.096358</td>\n",
       "      <td>8.106</td>\n",
       "      <td>6</td>\n",
       "      <td>5</td>\n",
       "      <td>2010</td>\n",
       "    </tr>\n",
       "    <tr>\n",
       "      <th>1</th>\n",
       "      <td>1</td>\n",
       "      <td>38.51</td>\n",
       "      <td>2.548</td>\n",
       "      <td>211.242170</td>\n",
       "      <td>8.106</td>\n",
       "      <td>3</td>\n",
       "      <td>12</td>\n",
       "      <td>2010</td>\n",
       "    </tr>\n",
       "    <tr>\n",
       "      <th>2</th>\n",
       "      <td>0</td>\n",
       "      <td>39.93</td>\n",
       "      <td>2.514</td>\n",
       "      <td>211.289143</td>\n",
       "      <td>8.106</td>\n",
       "      <td>4</td>\n",
       "      <td>2</td>\n",
       "      <td>2010</td>\n",
       "    </tr>\n",
       "    <tr>\n",
       "      <th>3</th>\n",
       "      <td>0</td>\n",
       "      <td>46.63</td>\n",
       "      <td>2.561</td>\n",
       "      <td>211.319643</td>\n",
       "      <td>8.106</td>\n",
       "      <td>4</td>\n",
       "      <td>2</td>\n",
       "      <td>2010</td>\n",
       "    </tr>\n",
       "    <tr>\n",
       "      <th>4</th>\n",
       "      <td>0</td>\n",
       "      <td>46.50</td>\n",
       "      <td>2.625</td>\n",
       "      <td>211.350143</td>\n",
       "      <td>8.106</td>\n",
       "      <td>0</td>\n",
       "      <td>5</td>\n",
       "      <td>2010</td>\n",
       "    </tr>\n",
       "  </tbody>\n",
       "</table>\n",
       "</div>"
      ],
      "text/plain": [
       "  holiday_flag  temperature  fuel_price         cpi  unemployment weekday  \\\n",
       "0            0        42.31       2.572  211.096358         8.106       6   \n",
       "1            1        38.51       2.548  211.242170         8.106       3   \n",
       "2            0        39.93       2.514  211.289143         8.106       4   \n",
       "3            0        46.63       2.561  211.319643         8.106       4   \n",
       "4            0        46.50       2.625  211.350143         8.106       0   \n",
       "\n",
       "  month  year  \n",
       "0     5  2010  \n",
       "1    12  2010  \n",
       "2     2  2010  \n",
       "3     2  2010  \n",
       "4     5  2010  "
      ]
     },
     "execution_count": 89,
     "metadata": {},
     "output_type": "execute_result"
    }
   ],
   "source": [
    "X.head()"
   ]
  },
  {
   "cell_type": "code",
   "execution_count": 90,
   "id": "c9e15d26-b46b-43c7-8a5f-9b381cd0498e",
   "metadata": {
    "tags": []
   },
   "outputs": [
    {
     "data": {
      "text/plain": [
       "((6435, 8), (6435,))"
      ]
     },
     "execution_count": 90,
     "metadata": {},
     "output_type": "execute_result"
    }
   ],
   "source": [
    "X.shape,y.shape"
   ]
  },
  {
   "cell_type": "code",
   "execution_count": 91,
   "id": "d72aed5b-9d5b-44c7-8fc6-5f48d7942d40",
   "metadata": {
    "tags": []
   },
   "outputs": [],
   "source": [
    "X = sm.add_constant(X_sc)\n"
   ]
  },
  {
   "cell_type": "code",
   "execution_count": 92,
   "id": "89b5604e-2ffc-4a25-ab74-9cde3323636d",
   "metadata": {
    "tags": []
   },
   "outputs": [],
   "source": [
    "ols = sm.OLS(y,X)\n"
   ]
  },
  {
   "cell_type": "code",
   "execution_count": 93,
   "id": "a7142ec1-7477-4e01-8a97-5337527d3a14",
   "metadata": {
    "tags": []
   },
   "outputs": [],
   "source": [
    "model=ols.fit()"
   ]
  },
  {
   "cell_type": "code",
   "execution_count": 94,
   "id": "b69bd1c8-60be-41f0-adc6-c92308baf450",
   "metadata": {
    "tags": []
   },
   "outputs": [
    {
     "name": "stdout",
     "output_type": "stream",
     "text": [
      "                            OLS Regression Results                            \n",
      "==============================================================================\n",
      "Dep. Variable:           weekly_sales   R-squared:                       0.032\n",
      "Model:                            OLS   Adj. R-squared:                  0.031\n",
      "Method:                 Least Squares   F-statistic:                     26.43\n",
      "Date:                Tue, 03 Jun 2025   Prob (F-statistic):           1.23e-40\n",
      "Time:                        15:25:06   Log-Likelihood:                -94248.\n",
      "No. Observations:                6435   AIC:                         1.885e+05\n",
      "Df Residuals:                    6426   BIC:                         1.886e+05\n",
      "Df Model:                           8                                         \n",
      "Covariance Type:            nonrobust                                         \n",
      "==============================================================================\n",
      "                 coef    std err          t      P>|t|      [0.025      0.975]\n",
      "------------------------------------------------------------------------------\n",
      "const       1.047e+06   6926.708    151.149      0.000    1.03e+06    1.06e+06\n",
      "x1          7544.8680   7509.335      1.005      0.315   -7175.930    2.23e+04\n",
      "x2         -2.128e+04   7468.786     -2.849      0.004   -3.59e+04   -6638.403\n",
      "x3          3.938e+04   1.25e+04      3.160      0.002     1.5e+04    6.38e+04\n",
      "x4         -5.223e+04   7973.398     -6.551      0.000   -6.79e+04   -3.66e+04\n",
      "x5         -8.455e+04   7681.601    -11.007      0.000   -9.96e+04   -6.95e+04\n",
      "x6         -8008.5344   7090.764     -1.129      0.259   -2.19e+04    5891.726\n",
      "x7          3.061e+04   7611.097      4.022      0.000    1.57e+04    4.55e+04\n",
      "x8         -5.235e+04   1.26e+04     -4.158      0.000    -7.7e+04   -2.77e+04\n",
      "==============================================================================\n",
      "Omnibus:                      341.576   Durbin-Watson:                   0.117\n",
      "Prob(Omnibus):                  0.000   Jarque-Bera (JB):              396.790\n",
      "Skew:                           0.606   Prob(JB):                     6.89e-87\n",
      "Kurtosis:                       2.888   Cond. No.                         3.45\n",
      "==============================================================================\n",
      "\n",
      "Notes:\n",
      "[1] Standard Errors assume that the covariance matrix of the errors is correctly specified.\n"
     ]
    }
   ],
   "source": [
    "print(model.summary())"
   ]
  },
  {
   "cell_type": "code",
   "execution_count": 97,
   "id": "2a5a5c9e-a88f-472f-aa46-db82326f80aa",
   "metadata": {
    "tags": []
   },
   "outputs": [
    {
     "data": {
      "text/plain": [
       "array([[ 1.        , -0.27420425, -0.99513556, -1.71379998,  1.00417522,\n",
       "         0.05696366,  1.70110303, -0.44422923, -1.21089907],\n",
       "       [ 1.        ,  3.64691651, -1.20117022, -1.76608938,  1.00788038,\n",
       "         0.05696366, -0.40198976,  1.66322793, -1.21089907],\n",
       "       [ 1.        , -0.27420425, -1.12417832, -1.84016603,  1.009074  ,\n",
       "         0.05696366,  0.29904117, -1.34742516, -1.21089907]])"
      ]
     },
     "execution_count": 97,
     "metadata": {},
     "output_type": "execute_result"
    }
   ],
   "source": [
    "X[:3]"
   ]
  },
  {
   "cell_type": "code",
   "execution_count": 134,
   "id": "7fc4ebea-e098-409f-a74d-e5a33d8e6f68",
   "metadata": {},
   "outputs": [],
   "source": [
    "X = df.drop('weekly_sales',axis=1)\n",
    "y = df['weekly_sales']"
   ]
  },
  {
   "cell_type": "code",
   "execution_count": 135,
   "id": "757e81a6-04f1-40a1-a254-28a6ad2441c9",
   "metadata": {
    "tags": []
   },
   "outputs": [
    {
     "data": {
      "text/html": [
       "<div>\n",
       "<style scoped>\n",
       "    .dataframe tbody tr th:only-of-type {\n",
       "        vertical-align: middle;\n",
       "    }\n",
       "\n",
       "    .dataframe tbody tr th {\n",
       "        vertical-align: top;\n",
       "    }\n",
       "\n",
       "    .dataframe thead th {\n",
       "        text-align: right;\n",
       "    }\n",
       "</style>\n",
       "<table border=\"1\" class=\"dataframe\">\n",
       "  <thead>\n",
       "    <tr style=\"text-align: right;\">\n",
       "      <th></th>\n",
       "      <th>store</th>\n",
       "      <th>holiday_flag</th>\n",
       "      <th>temperature</th>\n",
       "      <th>fuel_price</th>\n",
       "      <th>cpi</th>\n",
       "      <th>unemployment</th>\n",
       "      <th>weekday</th>\n",
       "      <th>month</th>\n",
       "      <th>year</th>\n",
       "    </tr>\n",
       "  </thead>\n",
       "  <tbody>\n",
       "    <tr>\n",
       "      <th>0</th>\n",
       "      <td>1</td>\n",
       "      <td>0</td>\n",
       "      <td>42.31</td>\n",
       "      <td>2.572</td>\n",
       "      <td>211.096358</td>\n",
       "      <td>8.106</td>\n",
       "      <td>6</td>\n",
       "      <td>5</td>\n",
       "      <td>2010</td>\n",
       "    </tr>\n",
       "    <tr>\n",
       "      <th>1</th>\n",
       "      <td>1</td>\n",
       "      <td>1</td>\n",
       "      <td>38.51</td>\n",
       "      <td>2.548</td>\n",
       "      <td>211.242170</td>\n",
       "      <td>8.106</td>\n",
       "      <td>3</td>\n",
       "      <td>12</td>\n",
       "      <td>2010</td>\n",
       "    </tr>\n",
       "    <tr>\n",
       "      <th>2</th>\n",
       "      <td>1</td>\n",
       "      <td>0</td>\n",
       "      <td>39.93</td>\n",
       "      <td>2.514</td>\n",
       "      <td>211.289143</td>\n",
       "      <td>8.106</td>\n",
       "      <td>4</td>\n",
       "      <td>2</td>\n",
       "      <td>2010</td>\n",
       "    </tr>\n",
       "    <tr>\n",
       "      <th>3</th>\n",
       "      <td>1</td>\n",
       "      <td>0</td>\n",
       "      <td>46.63</td>\n",
       "      <td>2.561</td>\n",
       "      <td>211.319643</td>\n",
       "      <td>8.106</td>\n",
       "      <td>4</td>\n",
       "      <td>2</td>\n",
       "      <td>2010</td>\n",
       "    </tr>\n",
       "    <tr>\n",
       "      <th>4</th>\n",
       "      <td>1</td>\n",
       "      <td>0</td>\n",
       "      <td>46.50</td>\n",
       "      <td>2.625</td>\n",
       "      <td>211.350143</td>\n",
       "      <td>8.106</td>\n",
       "      <td>0</td>\n",
       "      <td>5</td>\n",
       "      <td>2010</td>\n",
       "    </tr>\n",
       "  </tbody>\n",
       "</table>\n",
       "</div>"
      ],
      "text/plain": [
       "  store holiday_flag  temperature  fuel_price         cpi  unemployment  \\\n",
       "0     1            0        42.31       2.572  211.096358         8.106   \n",
       "1     1            1        38.51       2.548  211.242170         8.106   \n",
       "2     1            0        39.93       2.514  211.289143         8.106   \n",
       "3     1            0        46.63       2.561  211.319643         8.106   \n",
       "4     1            0        46.50       2.625  211.350143         8.106   \n",
       "\n",
       "  weekday month  year  \n",
       "0       6     5  2010  \n",
       "1       3    12  2010  \n",
       "2       4     2  2010  \n",
       "3       4     2  2010  \n",
       "4       0     5  2010  "
      ]
     },
     "execution_count": 135,
     "metadata": {},
     "output_type": "execute_result"
    }
   ],
   "source": [
    "X.head()"
   ]
  },
  {
   "cell_type": "code",
   "execution_count": 136,
   "id": "48acea6f-ef14-4f94-ac3d-d81e5b207cb6",
   "metadata": {
    "tags": []
   },
   "outputs": [],
   "source": [
    "X_train, X_test, y_train, y_test = train_test_split(X, y, test_size=0.1, random_state=11, shuffle=True)"
   ]
  },
  {
   "cell_type": "code",
   "execution_count": 137,
   "id": "b3de4e47-d548-4ede-8a89-dd0cb8dc7f9d",
   "metadata": {
    "tags": []
   },
   "outputs": [
    {
     "data": {
      "text/plain": [
       "((5791, 9), (644, 9), (5791,), (644,))"
      ]
     },
     "execution_count": 137,
     "metadata": {},
     "output_type": "execute_result"
    }
   ],
   "source": [
    "X_train.shape,X_test.shape,y_train.shape,y_test.shape"
   ]
  },
  {
   "cell_type": "code",
   "execution_count": 138,
   "id": "f8a4915d-91ff-4ce1-84a3-e9523b902b5a",
   "metadata": {
    "tags": []
   },
   "outputs": [
    {
     "data": {
      "text/html": [
       "<div>\n",
       "<style scoped>\n",
       "    .dataframe tbody tr th:only-of-type {\n",
       "        vertical-align: middle;\n",
       "    }\n",
       "\n",
       "    .dataframe tbody tr th {\n",
       "        vertical-align: top;\n",
       "    }\n",
       "\n",
       "    .dataframe thead th {\n",
       "        text-align: right;\n",
       "    }\n",
       "</style>\n",
       "<table border=\"1\" class=\"dataframe\">\n",
       "  <thead>\n",
       "    <tr style=\"text-align: right;\">\n",
       "      <th></th>\n",
       "      <th>store</th>\n",
       "      <th>holiday_flag</th>\n",
       "      <th>temperature</th>\n",
       "      <th>fuel_price</th>\n",
       "      <th>cpi</th>\n",
       "      <th>unemployment</th>\n",
       "      <th>weekday</th>\n",
       "      <th>month</th>\n",
       "      <th>year</th>\n",
       "    </tr>\n",
       "  </thead>\n",
       "  <tbody>\n",
       "    <tr>\n",
       "      <th>1586</th>\n",
       "      <td>12</td>\n",
       "      <td>0</td>\n",
       "      <td>70.15</td>\n",
       "      <td>3.127</td>\n",
       "      <td>126.289800</td>\n",
       "      <td>14.099</td>\n",
       "      <td>0</td>\n",
       "      <td>7</td>\n",
       "      <td>2010</td>\n",
       "    </tr>\n",
       "    <tr>\n",
       "      <th>4056</th>\n",
       "      <td>29</td>\n",
       "      <td>0</td>\n",
       "      <td>26.39</td>\n",
       "      <td>3.240</td>\n",
       "      <td>133.183419</td>\n",
       "      <td>10.256</td>\n",
       "      <td>5</td>\n",
       "      <td>4</td>\n",
       "      <td>2011</td>\n",
       "    </tr>\n",
       "    <tr>\n",
       "      <th>5554</th>\n",
       "      <td>39</td>\n",
       "      <td>0</td>\n",
       "      <td>78.31</td>\n",
       "      <td>3.561</td>\n",
       "      <td>220.428712</td>\n",
       "      <td>6.989</td>\n",
       "      <td>4</td>\n",
       "      <td>5</td>\n",
       "      <td>2012</td>\n",
       "    </tr>\n",
       "    <tr>\n",
       "      <th>6387</th>\n",
       "      <td>45</td>\n",
       "      <td>0</td>\n",
       "      <td>50.19</td>\n",
       "      <td>3.452</td>\n",
       "      <td>188.502435</td>\n",
       "      <td>8.523</td>\n",
       "      <td>5</td>\n",
       "      <td>2</td>\n",
       "      <td>2011</td>\n",
       "    </tr>\n",
       "    <tr>\n",
       "      <th>2629</th>\n",
       "      <td>19</td>\n",
       "      <td>0</td>\n",
       "      <td>23.24</td>\n",
       "      <td>3.452</td>\n",
       "      <td>133.492143</td>\n",
       "      <td>7.771</td>\n",
       "      <td>4</td>\n",
       "      <td>2</td>\n",
       "      <td>2011</td>\n",
       "    </tr>\n",
       "  </tbody>\n",
       "</table>\n",
       "</div>"
      ],
      "text/plain": [
       "     store holiday_flag  temperature  fuel_price         cpi  unemployment  \\\n",
       "1586    12            0        70.15       3.127  126.289800        14.099   \n",
       "4056    29            0        26.39       3.240  133.183419        10.256   \n",
       "5554    39            0        78.31       3.561  220.428712         6.989   \n",
       "6387    45            0        50.19       3.452  188.502435         8.523   \n",
       "2629    19            0        23.24       3.452  133.492143         7.771   \n",
       "\n",
       "     weekday month  year  \n",
       "1586       0     7  2010  \n",
       "4056       5     4  2011  \n",
       "5554       4     5  2012  \n",
       "6387       5     2  2011  \n",
       "2629       4     2  2011  "
      ]
     },
     "execution_count": 138,
     "metadata": {},
     "output_type": "execute_result"
    }
   ],
   "source": [
    "X_train.head()"
   ]
  },
  {
   "cell_type": "code",
   "execution_count": 139,
   "id": "add85f92-0159-4f8e-b72e-be89fb3c8cec",
   "metadata": {
    "tags": []
   },
   "outputs": [],
   "source": [
    "X_train_scaled=sc.fit_transform(X_train)\n",
    "X_test_scaled=sc.transform(X_test)\n",
    "X_train=pd.DataFrame(data=X_train_scaled,columns=X_train.columns,index=X_train.index)\n",
    "X_test=pd.DataFrame(data=X_test_scaled,columns=X_test.columns,index=X_test.index)"
   ]
  },
  {
   "cell_type": "code",
   "execution_count": 100,
   "id": "e15f5611-3824-4c59-ab0a-4a58a19d4485",
   "metadata": {
    "tags": []
   },
   "outputs": [],
   "source": []
  },
  {
   "cell_type": "code",
   "execution_count": null,
   "id": "66de455f-f301-4470-ae59-a185a7bac352",
   "metadata": {},
   "outputs": [],
   "source": []
  },
  {
   "cell_type": "markdown",
   "id": "b181383c-2672-4776-b98e-b0fed169040c",
   "metadata": {},
   "source": [
    "# LinearRegression"
   ]
  },
  {
   "cell_type": "code",
   "execution_count": 140,
   "id": "a3c2440b-6899-41d6-b98e-f8115671283b",
   "metadata": {
    "tags": []
   },
   "outputs": [],
   "source": [
    "lr = LinearRegression()"
   ]
  },
  {
   "cell_type": "code",
   "execution_count": 146,
   "id": "08318243-40cf-46ec-a117-23a4711095d4",
   "metadata": {
    "tags": []
   },
   "outputs": [],
   "source": [
    "from sklearn.linear_model import LinearRegression\n",
    "from sklearn.metrics import mean_squared_error, r2_score\n",
    "from sklearn.model_selection import cross_val_score\n",
    "import numpy as np\n"
   ]
  },
  {
   "cell_type": "code",
   "execution_count": 147,
   "id": "a75f6ab7-e274-435d-825d-e291f110adb5",
   "metadata": {
    "tags": []
   },
   "outputs": [],
   "source": [
    "# building a function to store models results and display for comparison\n",
    "def store_results(name, y_train, X_train, y_test, X_test,model, folds, norm, Alpha):\n",
    "\n",
    "    \"\"\"    creates and entry to add to the resuts dataframe\n",
    "    name: name of the model \n",
    "    y_pred: predicted y \n",
    "    y_train: true value of y\n",
    "    x_train: features \n",
    "    model: model to be fit\n",
    "    folds: number of folds in cv\n",
    "    norm: L1 or L2\n",
    "    Alpha: Value of regularization parameter\"\"\"\n",
    "    model.fit(X_train,y_train)\n",
    "    y_pred = model.predict(X_train) # predictions on the train set.\n",
    "    r2_val = r2_score(y_train,y_pred)\n",
    "    r2_adj_val=1 - (((len(X_train.index) - 1) / (len(X_train.index) - len(X_train.columns) - 1)) * (1 - r2_score(y_train,y_pred)))\n",
    "    rmse_error = mean_squared_error (y_train, y_pred, squared = False)\n",
    "    y_pred_test = model.predict(X_test)\n",
    "    r2_val_test = r2_score(y_test,y_pred_test)\n",
    "    r2_adj_val_test=1 - (((len(X_test.index) - 1) / (len(X_test.index) - len(X_test.columns) - 1)) * (1 - r2_score(y_test,y_pred_test)))\n",
    "    rmse_error_test = mean_squared_error (y_test, y_pred_test, squared = False)\n",
    "    crossvalidation = cross_val_score(model, X_train, y_train, cv=folds, n_jobs=-1)\n",
    "    \n",
    "    entry = {'Model': [name],\n",
    "          'Regularization' : [norm],\n",
    "          'Alpha_value' : [Alpha],\n",
    "         'R2Score': [r2_val],\n",
    "         'Adjusted_R2Score': [r2_adj_val],\n",
    "         'RMSE': [rmse_error],\n",
    "         'R2Score_Test': [r2_val_test],\n",
    "         'Adjusted_R2Score_test': [r2_adj_val_test],\n",
    "         'RMSE_Test': [rmse_error_test],\n",
    "          'CrossVal_Mean(r2)': [crossvalidation.mean()],           \n",
    "          'CrossVal1(r2)': [crossvalidation[0]],\n",
    "          'CrossVal2(r2)': [crossvalidation[1]],\n",
    "          'CrossVal3(r2)': [crossvalidation[2]],\n",
    "          'CrossVal4(r2)': [crossvalidation[3]],\n",
    "          'CrossVal5(r2)': [crossvalidation[4]],\n",
    "          }\n",
    "\n",
    "\n",
    "    result = pd.DataFrame(entry)\n",
    "    return result"
   ]
  },
  {
   "cell_type": "code",
   "execution_count": 148,
   "id": "7c318b28-b96d-4d3c-ba5f-74e8d425ef3e",
   "metadata": {},
   "outputs": [
    {
     "data": {
      "text/html": [
       "<div>\n",
       "<style scoped>\n",
       "    .dataframe tbody tr th:only-of-type {\n",
       "        vertical-align: middle;\n",
       "    }\n",
       "\n",
       "    .dataframe tbody tr th {\n",
       "        vertical-align: top;\n",
       "    }\n",
       "\n",
       "    .dataframe thead th {\n",
       "        text-align: right;\n",
       "    }\n",
       "</style>\n",
       "<table border=\"1\" class=\"dataframe\">\n",
       "  <thead>\n",
       "    <tr style=\"text-align: right;\">\n",
       "      <th></th>\n",
       "      <th>Model</th>\n",
       "      <th>Regularization</th>\n",
       "      <th>Alpha_value</th>\n",
       "      <th>R2Score</th>\n",
       "      <th>Adjusted_R2Score</th>\n",
       "      <th>RMSE</th>\n",
       "      <th>R2Score_Test</th>\n",
       "      <th>Adjusted_R2Score_test</th>\n",
       "      <th>RMSE_Test</th>\n",
       "      <th>CrossVal_Mean(r2)</th>\n",
       "      <th>CrossVal1(r2)</th>\n",
       "      <th>CrossVal2(r2)</th>\n",
       "      <th>CrossVal3(r2)</th>\n",
       "      <th>CrossVal4(r2)</th>\n",
       "      <th>CrossVal5(r2)</th>\n",
       "    </tr>\n",
       "  </thead>\n",
       "  <tbody>\n",
       "    <tr>\n",
       "      <th>0</th>\n",
       "      <td>LinearRegression</td>\n",
       "      <td>NaN</td>\n",
       "      <td>NaN</td>\n",
       "      <td>0.144904</td>\n",
       "      <td>0.143573</td>\n",
       "      <td>520640.393543</td>\n",
       "      <td>0.16379</td>\n",
       "      <td>0.151919</td>\n",
       "      <td>526403.345606</td>\n",
       "      <td>0.141142</td>\n",
       "      <td>0.136744</td>\n",
       "      <td>0.149818</td>\n",
       "      <td>0.136663</td>\n",
       "      <td>0.135283</td>\n",
       "      <td>0.147203</td>\n",
       "    </tr>\n",
       "  </tbody>\n",
       "</table>\n",
       "</div>"
      ],
      "text/plain": [
       "              Model  Regularization  Alpha_value   R2Score  Adjusted_R2Score  \\\n",
       "0  LinearRegression             NaN          NaN  0.144904          0.143573   \n",
       "\n",
       "            RMSE  R2Score_Test  Adjusted_R2Score_test      RMSE_Test  \\\n",
       "0  520640.393543       0.16379               0.151919  526403.345606   \n",
       "\n",
       "   CrossVal_Mean(r2)  CrossVal1(r2)  CrossVal2(r2)  CrossVal3(r2)  \\\n",
       "0           0.141142       0.136744       0.149818       0.136663   \n",
       "\n",
       "   CrossVal4(r2)  CrossVal5(r2)  \n",
       "0       0.135283       0.147203  "
      ]
     },
     "execution_count": 148,
     "metadata": {},
     "output_type": "execute_result"
    }
   ],
   "source": [
    "temp = store_results(\"LinearRegression\",  y_train,X_train, y_test,X_test, lr, 5, np.nan, np.nan)\n",
    "temp"
   ]
  },
  {
   "cell_type": "code",
   "execution_count": 149,
   "id": "8e55966a-ec69-4275-822c-da6e8575cfd7",
   "metadata": {},
   "outputs": [],
   "source": [
    " outcomes=temp.copy()"
   ]
  },
  {
   "cell_type": "markdown",
   "id": "c8887a29-189d-4742-a895-758fa11904ad",
   "metadata": {},
   "source": [
    "# KNN"
   ]
  },
  {
   "cell_type": "code",
   "execution_count": 152,
   "id": "d8b72ed2-68f0-4ede-8625-b4eaf32badbf",
   "metadata": {
    "tags": []
   },
   "outputs": [],
   "source": [
    "from sklearn.neighbors import KNeighborsRegressor"
   ]
  },
  {
   "cell_type": "code",
   "execution_count": 153,
   "id": "3b824284-53e4-434c-8daf-50770d29b982",
   "metadata": {
    "tags": []
   },
   "outputs": [],
   "source": [
    "knn = KNeighborsRegressor(n_neighbors=5)"
   ]
  },
  {
   "cell_type": "code",
   "execution_count": 155,
   "id": "a617b979-1cf2-4c9c-ac35-85f3077cf57c",
   "metadata": {},
   "outputs": [
    {
     "data": {
      "text/html": [
       "<div>\n",
       "<style scoped>\n",
       "    .dataframe tbody tr th:only-of-type {\n",
       "        vertical-align: middle;\n",
       "    }\n",
       "\n",
       "    .dataframe tbody tr th {\n",
       "        vertical-align: top;\n",
       "    }\n",
       "\n",
       "    .dataframe thead th {\n",
       "        text-align: right;\n",
       "    }\n",
       "</style>\n",
       "<table border=\"1\" class=\"dataframe\">\n",
       "  <thead>\n",
       "    <tr style=\"text-align: right;\">\n",
       "      <th></th>\n",
       "      <th>Model</th>\n",
       "      <th>Regularization</th>\n",
       "      <th>Alpha_value</th>\n",
       "      <th>R2Score</th>\n",
       "      <th>Adjusted_R2Score</th>\n",
       "      <th>RMSE</th>\n",
       "      <th>R2Score_Test</th>\n",
       "      <th>Adjusted_R2Score_test</th>\n",
       "      <th>RMSE_Test</th>\n",
       "      <th>CrossVal_Mean(r2)</th>\n",
       "      <th>CrossVal1(r2)</th>\n",
       "      <th>CrossVal2(r2)</th>\n",
       "      <th>CrossVal3(r2)</th>\n",
       "      <th>CrossVal4(r2)</th>\n",
       "      <th>CrossVal5(r2)</th>\n",
       "    </tr>\n",
       "  </thead>\n",
       "  <tbody>\n",
       "    <tr>\n",
       "      <th>0</th>\n",
       "      <td>LinearRegression</td>\n",
       "      <td>NaN</td>\n",
       "      <td>NaN</td>\n",
       "      <td>0.144904</td>\n",
       "      <td>0.143573</td>\n",
       "      <td>520640.393543</td>\n",
       "      <td>0.163790</td>\n",
       "      <td>0.151919</td>\n",
       "      <td>526403.345606</td>\n",
       "      <td>0.141142</td>\n",
       "      <td>0.136744</td>\n",
       "      <td>0.149818</td>\n",
       "      <td>0.136663</td>\n",
       "      <td>0.135283</td>\n",
       "      <td>0.147203</td>\n",
       "    </tr>\n",
       "    <tr>\n",
       "      <th>0</th>\n",
       "      <td>knn</td>\n",
       "      <td>NaN</td>\n",
       "      <td>NaN</td>\n",
       "      <td>0.597741</td>\n",
       "      <td>0.597115</td>\n",
       "      <td>357094.570448</td>\n",
       "      <td>0.431489</td>\n",
       "      <td>0.423418</td>\n",
       "      <td>434040.631648</td>\n",
       "      <td>0.336612</td>\n",
       "      <td>0.355620</td>\n",
       "      <td>0.320673</td>\n",
       "      <td>0.346994</td>\n",
       "      <td>0.329209</td>\n",
       "      <td>0.330565</td>\n",
       "    </tr>\n",
       "  </tbody>\n",
       "</table>\n",
       "</div>"
      ],
      "text/plain": [
       "              Model  Regularization  Alpha_value   R2Score  Adjusted_R2Score  \\\n",
       "0  LinearRegression             NaN          NaN  0.144904          0.143573   \n",
       "0               knn             NaN          NaN  0.597741          0.597115   \n",
       "\n",
       "            RMSE  R2Score_Test  Adjusted_R2Score_test      RMSE_Test  \\\n",
       "0  520640.393543      0.163790               0.151919  526403.345606   \n",
       "0  357094.570448      0.431489               0.423418  434040.631648   \n",
       "\n",
       "   CrossVal_Mean(r2)  CrossVal1(r2)  CrossVal2(r2)  CrossVal3(r2)  \\\n",
       "0           0.141142       0.136744       0.149818       0.136663   \n",
       "0           0.336612       0.355620       0.320673       0.346994   \n",
       "\n",
       "   CrossVal4(r2)  CrossVal5(r2)  \n",
       "0       0.135283       0.147203  \n",
       "0       0.329209       0.330565  "
      ]
     },
     "execution_count": 155,
     "metadata": {},
     "output_type": "execute_result"
    }
   ],
   "source": [
    "temp =store_results(\"knn\",  y_train,X_train, y_test,X_test, knn, 5, np.nan, np.nan)\n",
    "\n",
    "outcomes = outcomes.append (temp)\n",
    "outcomes"
   ]
  },
  {
   "cell_type": "markdown",
   "id": "7d0ee551",
   "metadata": {},
   "source": [
    "# SUPPORT VECTORS"
   ]
  },
  {
   "cell_type": "code",
   "execution_count": 157,
   "id": "2e74dfe3-dd8b-4d3c-98fa-77a4cf28eae1",
   "metadata": {
    "tags": []
   },
   "outputs": [],
   "source": [
    "from sklearn.svm import SVR\n",
    "svr = SVR()"
   ]
  },
  {
   "cell_type": "code",
   "execution_count": 160,
   "id": "39efce01-3df3-4cc2-b078-c5b900d8a8f5",
   "metadata": {
    "tags": []
   },
   "outputs": [
    {
     "data": {
      "text/html": [
       "<div>\n",
       "<style scoped>\n",
       "    .dataframe tbody tr th:only-of-type {\n",
       "        vertical-align: middle;\n",
       "    }\n",
       "\n",
       "    .dataframe tbody tr th {\n",
       "        vertical-align: top;\n",
       "    }\n",
       "\n",
       "    .dataframe thead th {\n",
       "        text-align: right;\n",
       "    }\n",
       "</style>\n",
       "<table border=\"1\" class=\"dataframe\">\n",
       "  <thead>\n",
       "    <tr style=\"text-align: right;\">\n",
       "      <th></th>\n",
       "      <th>Model</th>\n",
       "      <th>Regularization</th>\n",
       "      <th>Alpha_value</th>\n",
       "      <th>R2Score</th>\n",
       "      <th>Adjusted_R2Score</th>\n",
       "      <th>RMSE</th>\n",
       "      <th>R2Score_Test</th>\n",
       "      <th>Adjusted_R2Score_test</th>\n",
       "      <th>RMSE_Test</th>\n",
       "      <th>CrossVal_Mean(r2)</th>\n",
       "      <th>CrossVal1(r2)</th>\n",
       "      <th>CrossVal2(r2)</th>\n",
       "      <th>CrossVal3(r2)</th>\n",
       "      <th>CrossVal4(r2)</th>\n",
       "      <th>CrossVal5(r2)</th>\n",
       "    </tr>\n",
       "  </thead>\n",
       "  <tbody>\n",
       "    <tr>\n",
       "      <th>0</th>\n",
       "      <td>LinearRegression</td>\n",
       "      <td>NaN</td>\n",
       "      <td>NaN</td>\n",
       "      <td>0.144904</td>\n",
       "      <td>0.143573</td>\n",
       "      <td>520640.393543</td>\n",
       "      <td>0.163790</td>\n",
       "      <td>0.151919</td>\n",
       "      <td>526403.345606</td>\n",
       "      <td>0.141142</td>\n",
       "      <td>0.136744</td>\n",
       "      <td>0.149818</td>\n",
       "      <td>0.136663</td>\n",
       "      <td>0.135283</td>\n",
       "      <td>0.147203</td>\n",
       "    </tr>\n",
       "    <tr>\n",
       "      <th>0</th>\n",
       "      <td>knn</td>\n",
       "      <td>NaN</td>\n",
       "      <td>NaN</td>\n",
       "      <td>0.597741</td>\n",
       "      <td>0.597115</td>\n",
       "      <td>357094.570448</td>\n",
       "      <td>0.431489</td>\n",
       "      <td>0.423418</td>\n",
       "      <td>434040.631648</td>\n",
       "      <td>0.336612</td>\n",
       "      <td>0.355620</td>\n",
       "      <td>0.320673</td>\n",
       "      <td>0.346994</td>\n",
       "      <td>0.329209</td>\n",
       "      <td>0.330565</td>\n",
       "    </tr>\n",
       "    <tr>\n",
       "      <th>0</th>\n",
       "      <td>svr</td>\n",
       "      <td>NaN</td>\n",
       "      <td>NaN</td>\n",
       "      <td>0.597741</td>\n",
       "      <td>0.597115</td>\n",
       "      <td>357094.570448</td>\n",
       "      <td>0.431489</td>\n",
       "      <td>0.423418</td>\n",
       "      <td>434040.631648</td>\n",
       "      <td>0.336612</td>\n",
       "      <td>0.355620</td>\n",
       "      <td>0.320673</td>\n",
       "      <td>0.346994</td>\n",
       "      <td>0.329209</td>\n",
       "      <td>0.330565</td>\n",
       "    </tr>\n",
       "    <tr>\n",
       "      <th>0</th>\n",
       "      <td>svr</td>\n",
       "      <td>NaN</td>\n",
       "      <td>NaN</td>\n",
       "      <td>-0.024120</td>\n",
       "      <td>-0.025714</td>\n",
       "      <td>569778.175524</td>\n",
       "      <td>-0.015811</td>\n",
       "      <td>-0.030231</td>\n",
       "      <td>580186.165196</td>\n",
       "      <td>-0.024625</td>\n",
       "      <td>-0.025021</td>\n",
       "      <td>-0.026665</td>\n",
       "      <td>-0.035159</td>\n",
       "      <td>-0.013039</td>\n",
       "      <td>-0.023243</td>\n",
       "    </tr>\n",
       "  </tbody>\n",
       "</table>\n",
       "</div>"
      ],
      "text/plain": [
       "              Model  Regularization  Alpha_value   R2Score  Adjusted_R2Score  \\\n",
       "0  LinearRegression             NaN          NaN  0.144904          0.143573   \n",
       "0               knn             NaN          NaN  0.597741          0.597115   \n",
       "0               svr             NaN          NaN  0.597741          0.597115   \n",
       "0               svr             NaN          NaN -0.024120         -0.025714   \n",
       "\n",
       "            RMSE  R2Score_Test  Adjusted_R2Score_test      RMSE_Test  \\\n",
       "0  520640.393543      0.163790               0.151919  526403.345606   \n",
       "0  357094.570448      0.431489               0.423418  434040.631648   \n",
       "0  357094.570448      0.431489               0.423418  434040.631648   \n",
       "0  569778.175524     -0.015811              -0.030231  580186.165196   \n",
       "\n",
       "   CrossVal_Mean(r2)  CrossVal1(r2)  CrossVal2(r2)  CrossVal3(r2)  \\\n",
       "0           0.141142       0.136744       0.149818       0.136663   \n",
       "0           0.336612       0.355620       0.320673       0.346994   \n",
       "0           0.336612       0.355620       0.320673       0.346994   \n",
       "0          -0.024625      -0.025021      -0.026665      -0.035159   \n",
       "\n",
       "   CrossVal4(r2)  CrossVal5(r2)  \n",
       "0       0.135283       0.147203  \n",
       "0       0.329209       0.330565  \n",
       "0       0.329209       0.330565  \n",
       "0      -0.013039      -0.023243  "
      ]
     },
     "execution_count": 160,
     "metadata": {},
     "output_type": "execute_result"
    }
   ],
   "source": [
    "temp =store_results(\"svr\",  y_train,X_train, y_test,X_test, svr, 5, np.nan, np.nan)\n",
    "\n",
    "outcomes = outcomes.append (temp)\n",
    "outcomes"
   ]
  },
  {
   "cell_type": "markdown",
   "id": "9ac98a01",
   "metadata": {},
   "source": [
    "# DECISION TREE REGRESSOR"
   ]
  },
  {
   "cell_type": "code",
   "execution_count": 159,
   "id": "b99629ba-5162-48af-a65c-0f084a89fb52",
   "metadata": {
    "tags": []
   },
   "outputs": [],
   "source": [
    "from sklearn.tree import DecisionTreeRegressor\n",
    "dt = DecisionTreeRegressor(random_state=11)"
   ]
  },
  {
   "cell_type": "code",
   "execution_count": 161,
   "id": "84879fd3-cc90-4461-9874-9e9ca0fcfe29",
   "metadata": {
    "tags": []
   },
   "outputs": [
    {
     "data": {
      "text/html": [
       "<div>\n",
       "<style scoped>\n",
       "    .dataframe tbody tr th:only-of-type {\n",
       "        vertical-align: middle;\n",
       "    }\n",
       "\n",
       "    .dataframe tbody tr th {\n",
       "        vertical-align: top;\n",
       "    }\n",
       "\n",
       "    .dataframe thead th {\n",
       "        text-align: right;\n",
       "    }\n",
       "</style>\n",
       "<table border=\"1\" class=\"dataframe\">\n",
       "  <thead>\n",
       "    <tr style=\"text-align: right;\">\n",
       "      <th></th>\n",
       "      <th>Model</th>\n",
       "      <th>Regularization</th>\n",
       "      <th>Alpha_value</th>\n",
       "      <th>R2Score</th>\n",
       "      <th>Adjusted_R2Score</th>\n",
       "      <th>RMSE</th>\n",
       "      <th>R2Score_Test</th>\n",
       "      <th>Adjusted_R2Score_test</th>\n",
       "      <th>RMSE_Test</th>\n",
       "      <th>CrossVal_Mean(r2)</th>\n",
       "      <th>CrossVal1(r2)</th>\n",
       "      <th>CrossVal2(r2)</th>\n",
       "      <th>CrossVal3(r2)</th>\n",
       "      <th>CrossVal4(r2)</th>\n",
       "      <th>CrossVal5(r2)</th>\n",
       "    </tr>\n",
       "  </thead>\n",
       "  <tbody>\n",
       "    <tr>\n",
       "      <th>0</th>\n",
       "      <td>LinearRegression</td>\n",
       "      <td>NaN</td>\n",
       "      <td>NaN</td>\n",
       "      <td>0.144904</td>\n",
       "      <td>0.143573</td>\n",
       "      <td>520640.393543</td>\n",
       "      <td>0.163790</td>\n",
       "      <td>0.151919</td>\n",
       "      <td>526403.345606</td>\n",
       "      <td>0.141142</td>\n",
       "      <td>0.136744</td>\n",
       "      <td>0.149818</td>\n",
       "      <td>0.136663</td>\n",
       "      <td>0.135283</td>\n",
       "      <td>0.147203</td>\n",
       "    </tr>\n",
       "    <tr>\n",
       "      <th>0</th>\n",
       "      <td>knn</td>\n",
       "      <td>NaN</td>\n",
       "      <td>NaN</td>\n",
       "      <td>0.597741</td>\n",
       "      <td>0.597115</td>\n",
       "      <td>357094.570448</td>\n",
       "      <td>0.431489</td>\n",
       "      <td>0.423418</td>\n",
       "      <td>434040.631648</td>\n",
       "      <td>0.336612</td>\n",
       "      <td>0.355620</td>\n",
       "      <td>0.320673</td>\n",
       "      <td>0.346994</td>\n",
       "      <td>0.329209</td>\n",
       "      <td>0.330565</td>\n",
       "    </tr>\n",
       "    <tr>\n",
       "      <th>0</th>\n",
       "      <td>svr</td>\n",
       "      <td>NaN</td>\n",
       "      <td>NaN</td>\n",
       "      <td>0.597741</td>\n",
       "      <td>0.597115</td>\n",
       "      <td>357094.570448</td>\n",
       "      <td>0.431489</td>\n",
       "      <td>0.423418</td>\n",
       "      <td>434040.631648</td>\n",
       "      <td>0.336612</td>\n",
       "      <td>0.355620</td>\n",
       "      <td>0.320673</td>\n",
       "      <td>0.346994</td>\n",
       "      <td>0.329209</td>\n",
       "      <td>0.330565</td>\n",
       "    </tr>\n",
       "    <tr>\n",
       "      <th>0</th>\n",
       "      <td>svr</td>\n",
       "      <td>NaN</td>\n",
       "      <td>NaN</td>\n",
       "      <td>-0.024120</td>\n",
       "      <td>-0.025714</td>\n",
       "      <td>569778.175524</td>\n",
       "      <td>-0.015811</td>\n",
       "      <td>-0.030231</td>\n",
       "      <td>580186.165196</td>\n",
       "      <td>-0.024625</td>\n",
       "      <td>-0.025021</td>\n",
       "      <td>-0.026665</td>\n",
       "      <td>-0.035159</td>\n",
       "      <td>-0.013039</td>\n",
       "      <td>-0.023243</td>\n",
       "    </tr>\n",
       "    <tr>\n",
       "      <th>0</th>\n",
       "      <td>dt</td>\n",
       "      <td>NaN</td>\n",
       "      <td>NaN</td>\n",
       "      <td>1.000000</td>\n",
       "      <td>1.000000</td>\n",
       "      <td>0.000000</td>\n",
       "      <td>0.934419</td>\n",
       "      <td>0.933488</td>\n",
       "      <td>147417.484814</td>\n",
       "      <td>0.888770</td>\n",
       "      <td>0.877946</td>\n",
       "      <td>0.887477</td>\n",
       "      <td>0.890503</td>\n",
       "      <td>0.912159</td>\n",
       "      <td>0.875767</td>\n",
       "    </tr>\n",
       "  </tbody>\n",
       "</table>\n",
       "</div>"
      ],
      "text/plain": [
       "              Model  Regularization  Alpha_value   R2Score  Adjusted_R2Score  \\\n",
       "0  LinearRegression             NaN          NaN  0.144904          0.143573   \n",
       "0               knn             NaN          NaN  0.597741          0.597115   \n",
       "0               svr             NaN          NaN  0.597741          0.597115   \n",
       "0               svr             NaN          NaN -0.024120         -0.025714   \n",
       "0                dt             NaN          NaN  1.000000          1.000000   \n",
       "\n",
       "            RMSE  R2Score_Test  Adjusted_R2Score_test      RMSE_Test  \\\n",
       "0  520640.393543      0.163790               0.151919  526403.345606   \n",
       "0  357094.570448      0.431489               0.423418  434040.631648   \n",
       "0  357094.570448      0.431489               0.423418  434040.631648   \n",
       "0  569778.175524     -0.015811              -0.030231  580186.165196   \n",
       "0       0.000000      0.934419               0.933488  147417.484814   \n",
       "\n",
       "   CrossVal_Mean(r2)  CrossVal1(r2)  CrossVal2(r2)  CrossVal3(r2)  \\\n",
       "0           0.141142       0.136744       0.149818       0.136663   \n",
       "0           0.336612       0.355620       0.320673       0.346994   \n",
       "0           0.336612       0.355620       0.320673       0.346994   \n",
       "0          -0.024625      -0.025021      -0.026665      -0.035159   \n",
       "0           0.888770       0.877946       0.887477       0.890503   \n",
       "\n",
       "   CrossVal4(r2)  CrossVal5(r2)  \n",
       "0       0.135283       0.147203  \n",
       "0       0.329209       0.330565  \n",
       "0       0.329209       0.330565  \n",
       "0      -0.013039      -0.023243  \n",
       "0       0.912159       0.875767  "
      ]
     },
     "execution_count": 161,
     "metadata": {},
     "output_type": "execute_result"
    }
   ],
   "source": [
    "temp =store_results(\"dt\",  y_train,X_train, y_test,X_test, dt, 5, np.nan, np.nan)\n",
    "\n",
    "outcomes = outcomes.append (temp)\n",
    "outcomes"
   ]
  },
  {
   "cell_type": "markdown",
   "id": "86c7d109",
   "metadata": {},
   "source": [
    "# RANDOM FOREST"
   ]
  },
  {
   "cell_type": "code",
   "execution_count": 164,
   "id": "fe20821f-4487-4ed9-bd03-8599a5afb784",
   "metadata": {
    "tags": []
   },
   "outputs": [],
   "source": [
    "from sklearn.ensemble import RandomForestRegressor"
   ]
  },
  {
   "cell_type": "code",
   "execution_count": 165,
   "id": "6feca385-49d9-46ab-b84e-cf498d37b958",
   "metadata": {
    "tags": []
   },
   "outputs": [],
   "source": [
    "rf = RandomForestRegressor(random_state=11)"
   ]
  },
  {
   "cell_type": "code",
   "execution_count": 166,
   "id": "2521bce0-c77c-4b2f-81f9-af541d0e4637",
   "metadata": {
    "tags": []
   },
   "outputs": [
    {
     "data": {
      "text/html": [
       "<div>\n",
       "<style scoped>\n",
       "    .dataframe tbody tr th:only-of-type {\n",
       "        vertical-align: middle;\n",
       "    }\n",
       "\n",
       "    .dataframe tbody tr th {\n",
       "        vertical-align: top;\n",
       "    }\n",
       "\n",
       "    .dataframe thead th {\n",
       "        text-align: right;\n",
       "    }\n",
       "</style>\n",
       "<table border=\"1\" class=\"dataframe\">\n",
       "  <thead>\n",
       "    <tr style=\"text-align: right;\">\n",
       "      <th></th>\n",
       "      <th>Model</th>\n",
       "      <th>Regularization</th>\n",
       "      <th>Alpha_value</th>\n",
       "      <th>R2Score</th>\n",
       "      <th>Adjusted_R2Score</th>\n",
       "      <th>RMSE</th>\n",
       "      <th>R2Score_Test</th>\n",
       "      <th>Adjusted_R2Score_test</th>\n",
       "      <th>RMSE_Test</th>\n",
       "      <th>CrossVal_Mean(r2)</th>\n",
       "      <th>CrossVal1(r2)</th>\n",
       "      <th>CrossVal2(r2)</th>\n",
       "      <th>CrossVal3(r2)</th>\n",
       "      <th>CrossVal4(r2)</th>\n",
       "      <th>CrossVal5(r2)</th>\n",
       "    </tr>\n",
       "  </thead>\n",
       "  <tbody>\n",
       "    <tr>\n",
       "      <th>0</th>\n",
       "      <td>LinearRegression</td>\n",
       "      <td>NaN</td>\n",
       "      <td>NaN</td>\n",
       "      <td>0.144904</td>\n",
       "      <td>0.143573</td>\n",
       "      <td>520640.393543</td>\n",
       "      <td>0.163790</td>\n",
       "      <td>0.151919</td>\n",
       "      <td>526403.345606</td>\n",
       "      <td>0.141142</td>\n",
       "      <td>0.136744</td>\n",
       "      <td>0.149818</td>\n",
       "      <td>0.136663</td>\n",
       "      <td>0.135283</td>\n",
       "      <td>0.147203</td>\n",
       "    </tr>\n",
       "    <tr>\n",
       "      <th>0</th>\n",
       "      <td>knn</td>\n",
       "      <td>NaN</td>\n",
       "      <td>NaN</td>\n",
       "      <td>0.597741</td>\n",
       "      <td>0.597115</td>\n",
       "      <td>357094.570448</td>\n",
       "      <td>0.431489</td>\n",
       "      <td>0.423418</td>\n",
       "      <td>434040.631648</td>\n",
       "      <td>0.336612</td>\n",
       "      <td>0.355620</td>\n",
       "      <td>0.320673</td>\n",
       "      <td>0.346994</td>\n",
       "      <td>0.329209</td>\n",
       "      <td>0.330565</td>\n",
       "    </tr>\n",
       "    <tr>\n",
       "      <th>0</th>\n",
       "      <td>svr</td>\n",
       "      <td>NaN</td>\n",
       "      <td>NaN</td>\n",
       "      <td>0.597741</td>\n",
       "      <td>0.597115</td>\n",
       "      <td>357094.570448</td>\n",
       "      <td>0.431489</td>\n",
       "      <td>0.423418</td>\n",
       "      <td>434040.631648</td>\n",
       "      <td>0.336612</td>\n",
       "      <td>0.355620</td>\n",
       "      <td>0.320673</td>\n",
       "      <td>0.346994</td>\n",
       "      <td>0.329209</td>\n",
       "      <td>0.330565</td>\n",
       "    </tr>\n",
       "    <tr>\n",
       "      <th>0</th>\n",
       "      <td>svr</td>\n",
       "      <td>NaN</td>\n",
       "      <td>NaN</td>\n",
       "      <td>-0.024120</td>\n",
       "      <td>-0.025714</td>\n",
       "      <td>569778.175524</td>\n",
       "      <td>-0.015811</td>\n",
       "      <td>-0.030231</td>\n",
       "      <td>580186.165196</td>\n",
       "      <td>-0.024625</td>\n",
       "      <td>-0.025021</td>\n",
       "      <td>-0.026665</td>\n",
       "      <td>-0.035159</td>\n",
       "      <td>-0.013039</td>\n",
       "      <td>-0.023243</td>\n",
       "    </tr>\n",
       "    <tr>\n",
       "      <th>0</th>\n",
       "      <td>dt</td>\n",
       "      <td>NaN</td>\n",
       "      <td>NaN</td>\n",
       "      <td>1.000000</td>\n",
       "      <td>1.000000</td>\n",
       "      <td>0.000000</td>\n",
       "      <td>0.934419</td>\n",
       "      <td>0.933488</td>\n",
       "      <td>147417.484814</td>\n",
       "      <td>0.888770</td>\n",
       "      <td>0.877946</td>\n",
       "      <td>0.887477</td>\n",
       "      <td>0.890503</td>\n",
       "      <td>0.912159</td>\n",
       "      <td>0.875767</td>\n",
       "    </tr>\n",
       "    <tr>\n",
       "      <th>0</th>\n",
       "      <td>Random Forest</td>\n",
       "      <td>NaN</td>\n",
       "      <td>NaN</td>\n",
       "      <td>0.991681</td>\n",
       "      <td>0.991668</td>\n",
       "      <td>51353.300977</td>\n",
       "      <td>0.947861</td>\n",
       "      <td>0.947121</td>\n",
       "      <td>131443.934238</td>\n",
       "      <td>0.937520</td>\n",
       "      <td>0.927770</td>\n",
       "      <td>0.944543</td>\n",
       "      <td>0.940153</td>\n",
       "      <td>0.946177</td>\n",
       "      <td>0.928957</td>\n",
       "    </tr>\n",
       "  </tbody>\n",
       "</table>\n",
       "</div>"
      ],
      "text/plain": [
       "              Model  Regularization  Alpha_value   R2Score  Adjusted_R2Score  \\\n",
       "0  LinearRegression             NaN          NaN  0.144904          0.143573   \n",
       "0               knn             NaN          NaN  0.597741          0.597115   \n",
       "0               svr             NaN          NaN  0.597741          0.597115   \n",
       "0               svr             NaN          NaN -0.024120         -0.025714   \n",
       "0                dt             NaN          NaN  1.000000          1.000000   \n",
       "0     Random Forest             NaN          NaN  0.991681          0.991668   \n",
       "\n",
       "            RMSE  R2Score_Test  Adjusted_R2Score_test      RMSE_Test  \\\n",
       "0  520640.393543      0.163790               0.151919  526403.345606   \n",
       "0  357094.570448      0.431489               0.423418  434040.631648   \n",
       "0  357094.570448      0.431489               0.423418  434040.631648   \n",
       "0  569778.175524     -0.015811              -0.030231  580186.165196   \n",
       "0       0.000000      0.934419               0.933488  147417.484814   \n",
       "0   51353.300977      0.947861               0.947121  131443.934238   \n",
       "\n",
       "   CrossVal_Mean(r2)  CrossVal1(r2)  CrossVal2(r2)  CrossVal3(r2)  \\\n",
       "0           0.141142       0.136744       0.149818       0.136663   \n",
       "0           0.336612       0.355620       0.320673       0.346994   \n",
       "0           0.336612       0.355620       0.320673       0.346994   \n",
       "0          -0.024625      -0.025021      -0.026665      -0.035159   \n",
       "0           0.888770       0.877946       0.887477       0.890503   \n",
       "0           0.937520       0.927770       0.944543       0.940153   \n",
       "\n",
       "   CrossVal4(r2)  CrossVal5(r2)  \n",
       "0       0.135283       0.147203  \n",
       "0       0.329209       0.330565  \n",
       "0       0.329209       0.330565  \n",
       "0      -0.013039      -0.023243  \n",
       "0       0.912159       0.875767  \n",
       "0       0.946177       0.928957  "
      ]
     },
     "execution_count": 166,
     "metadata": {},
     "output_type": "execute_result"
    }
   ],
   "source": [
    "temp =store_results(\"Random Forest\",  y_train,X_train, y_test,X_test,rf, 5, np.nan, np.nan)\n",
    "\n",
    "outcomes = outcomes.append (temp)\n",
    "outcomes"
   ]
  },
  {
   "cell_type": "markdown",
   "id": "f6254eac",
   "metadata": {},
   "source": [
    "# ADABOOST"
   ]
  },
  {
   "cell_type": "code",
   "execution_count": 168,
   "id": "c5e2138d-468e-40b7-93da-ab713feddf9a",
   "metadata": {
    "tags": []
   },
   "outputs": [],
   "source": [
    "from sklearn.ensemble import AdaBoostRegressor\n",
    "ada = AdaBoostRegressor(random_state=11)"
   ]
  },
  {
   "cell_type": "code",
   "execution_count": 169,
   "id": "c435cb61-28ce-4bb3-93c0-b8ac5f706a3c",
   "metadata": {
    "tags": []
   },
   "outputs": [
    {
     "data": {
      "text/html": [
       "<div>\n",
       "<style scoped>\n",
       "    .dataframe tbody tr th:only-of-type {\n",
       "        vertical-align: middle;\n",
       "    }\n",
       "\n",
       "    .dataframe tbody tr th {\n",
       "        vertical-align: top;\n",
       "    }\n",
       "\n",
       "    .dataframe thead th {\n",
       "        text-align: right;\n",
       "    }\n",
       "</style>\n",
       "<table border=\"1\" class=\"dataframe\">\n",
       "  <thead>\n",
       "    <tr style=\"text-align: right;\">\n",
       "      <th></th>\n",
       "      <th>Model</th>\n",
       "      <th>Regularization</th>\n",
       "      <th>Alpha_value</th>\n",
       "      <th>R2Score</th>\n",
       "      <th>Adjusted_R2Score</th>\n",
       "      <th>RMSE</th>\n",
       "      <th>R2Score_Test</th>\n",
       "      <th>Adjusted_R2Score_test</th>\n",
       "      <th>RMSE_Test</th>\n",
       "      <th>CrossVal_Mean(r2)</th>\n",
       "      <th>CrossVal1(r2)</th>\n",
       "      <th>CrossVal2(r2)</th>\n",
       "      <th>CrossVal3(r2)</th>\n",
       "      <th>CrossVal4(r2)</th>\n",
       "      <th>CrossVal5(r2)</th>\n",
       "    </tr>\n",
       "  </thead>\n",
       "  <tbody>\n",
       "    <tr>\n",
       "      <th>0</th>\n",
       "      <td>LinearRegression</td>\n",
       "      <td>NaN</td>\n",
       "      <td>NaN</td>\n",
       "      <td>0.144904</td>\n",
       "      <td>0.143573</td>\n",
       "      <td>520640.393543</td>\n",
       "      <td>0.163790</td>\n",
       "      <td>0.151919</td>\n",
       "      <td>526403.345606</td>\n",
       "      <td>0.141142</td>\n",
       "      <td>0.136744</td>\n",
       "      <td>0.149818</td>\n",
       "      <td>0.136663</td>\n",
       "      <td>0.135283</td>\n",
       "      <td>0.147203</td>\n",
       "    </tr>\n",
       "    <tr>\n",
       "      <th>0</th>\n",
       "      <td>knn</td>\n",
       "      <td>NaN</td>\n",
       "      <td>NaN</td>\n",
       "      <td>0.597741</td>\n",
       "      <td>0.597115</td>\n",
       "      <td>357094.570448</td>\n",
       "      <td>0.431489</td>\n",
       "      <td>0.423418</td>\n",
       "      <td>434040.631648</td>\n",
       "      <td>0.336612</td>\n",
       "      <td>0.355620</td>\n",
       "      <td>0.320673</td>\n",
       "      <td>0.346994</td>\n",
       "      <td>0.329209</td>\n",
       "      <td>0.330565</td>\n",
       "    </tr>\n",
       "    <tr>\n",
       "      <th>0</th>\n",
       "      <td>svr</td>\n",
       "      <td>NaN</td>\n",
       "      <td>NaN</td>\n",
       "      <td>0.597741</td>\n",
       "      <td>0.597115</td>\n",
       "      <td>357094.570448</td>\n",
       "      <td>0.431489</td>\n",
       "      <td>0.423418</td>\n",
       "      <td>434040.631648</td>\n",
       "      <td>0.336612</td>\n",
       "      <td>0.355620</td>\n",
       "      <td>0.320673</td>\n",
       "      <td>0.346994</td>\n",
       "      <td>0.329209</td>\n",
       "      <td>0.330565</td>\n",
       "    </tr>\n",
       "    <tr>\n",
       "      <th>0</th>\n",
       "      <td>svr</td>\n",
       "      <td>NaN</td>\n",
       "      <td>NaN</td>\n",
       "      <td>-0.024120</td>\n",
       "      <td>-0.025714</td>\n",
       "      <td>569778.175524</td>\n",
       "      <td>-0.015811</td>\n",
       "      <td>-0.030231</td>\n",
       "      <td>580186.165196</td>\n",
       "      <td>-0.024625</td>\n",
       "      <td>-0.025021</td>\n",
       "      <td>-0.026665</td>\n",
       "      <td>-0.035159</td>\n",
       "      <td>-0.013039</td>\n",
       "      <td>-0.023243</td>\n",
       "    </tr>\n",
       "    <tr>\n",
       "      <th>0</th>\n",
       "      <td>dt</td>\n",
       "      <td>NaN</td>\n",
       "      <td>NaN</td>\n",
       "      <td>1.000000</td>\n",
       "      <td>1.000000</td>\n",
       "      <td>0.000000</td>\n",
       "      <td>0.934419</td>\n",
       "      <td>0.933488</td>\n",
       "      <td>147417.484814</td>\n",
       "      <td>0.888770</td>\n",
       "      <td>0.877946</td>\n",
       "      <td>0.887477</td>\n",
       "      <td>0.890503</td>\n",
       "      <td>0.912159</td>\n",
       "      <td>0.875767</td>\n",
       "    </tr>\n",
       "    <tr>\n",
       "      <th>0</th>\n",
       "      <td>Random Forest</td>\n",
       "      <td>NaN</td>\n",
       "      <td>NaN</td>\n",
       "      <td>0.991681</td>\n",
       "      <td>0.991668</td>\n",
       "      <td>51353.300977</td>\n",
       "      <td>0.947861</td>\n",
       "      <td>0.947121</td>\n",
       "      <td>131443.934238</td>\n",
       "      <td>0.937520</td>\n",
       "      <td>0.927770</td>\n",
       "      <td>0.944543</td>\n",
       "      <td>0.940153</td>\n",
       "      <td>0.946177</td>\n",
       "      <td>0.928957</td>\n",
       "    </tr>\n",
       "    <tr>\n",
       "      <th>0</th>\n",
       "      <td>Adaboost</td>\n",
       "      <td>NaN</td>\n",
       "      <td>NaN</td>\n",
       "      <td>0.344794</td>\n",
       "      <td>0.343774</td>\n",
       "      <td>455742.221887</td>\n",
       "      <td>0.364316</td>\n",
       "      <td>0.355292</td>\n",
       "      <td>458966.951200</td>\n",
       "      <td>0.366691</td>\n",
       "      <td>0.363483</td>\n",
       "      <td>0.325682</td>\n",
       "      <td>0.445668</td>\n",
       "      <td>0.294202</td>\n",
       "      <td>0.404420</td>\n",
       "    </tr>\n",
       "  </tbody>\n",
       "</table>\n",
       "</div>"
      ],
      "text/plain": [
       "              Model  Regularization  Alpha_value   R2Score  Adjusted_R2Score  \\\n",
       "0  LinearRegression             NaN          NaN  0.144904          0.143573   \n",
       "0               knn             NaN          NaN  0.597741          0.597115   \n",
       "0               svr             NaN          NaN  0.597741          0.597115   \n",
       "0               svr             NaN          NaN -0.024120         -0.025714   \n",
       "0                dt             NaN          NaN  1.000000          1.000000   \n",
       "0     Random Forest             NaN          NaN  0.991681          0.991668   \n",
       "0          Adaboost             NaN          NaN  0.344794          0.343774   \n",
       "\n",
       "            RMSE  R2Score_Test  Adjusted_R2Score_test      RMSE_Test  \\\n",
       "0  520640.393543      0.163790               0.151919  526403.345606   \n",
       "0  357094.570448      0.431489               0.423418  434040.631648   \n",
       "0  357094.570448      0.431489               0.423418  434040.631648   \n",
       "0  569778.175524     -0.015811              -0.030231  580186.165196   \n",
       "0       0.000000      0.934419               0.933488  147417.484814   \n",
       "0   51353.300977      0.947861               0.947121  131443.934238   \n",
       "0  455742.221887      0.364316               0.355292  458966.951200   \n",
       "\n",
       "   CrossVal_Mean(r2)  CrossVal1(r2)  CrossVal2(r2)  CrossVal3(r2)  \\\n",
       "0           0.141142       0.136744       0.149818       0.136663   \n",
       "0           0.336612       0.355620       0.320673       0.346994   \n",
       "0           0.336612       0.355620       0.320673       0.346994   \n",
       "0          -0.024625      -0.025021      -0.026665      -0.035159   \n",
       "0           0.888770       0.877946       0.887477       0.890503   \n",
       "0           0.937520       0.927770       0.944543       0.940153   \n",
       "0           0.366691       0.363483       0.325682       0.445668   \n",
       "\n",
       "   CrossVal4(r2)  CrossVal5(r2)  \n",
       "0       0.135283       0.147203  \n",
       "0       0.329209       0.330565  \n",
       "0       0.329209       0.330565  \n",
       "0      -0.013039      -0.023243  \n",
       "0       0.912159       0.875767  \n",
       "0       0.946177       0.928957  \n",
       "0       0.294202       0.404420  "
      ]
     },
     "execution_count": 169,
     "metadata": {},
     "output_type": "execute_result"
    }
   ],
   "source": [
    "temp =store_results(\"Adaboost\",  y_train,X_train, y_test,X_test,ada, 5, np.nan, np.nan)\n",
    "\n",
    "outcomes = outcomes.append (temp)\n",
    "outcomes"
   ]
  },
  {
   "cell_type": "markdown",
   "id": "4095a78d",
   "metadata": {},
   "source": [
    "# XGBOOST"
   ]
  },
  {
   "cell_type": "code",
   "execution_count": 170,
   "id": "f951081b-8502-4321-967d-1733a8bd3203",
   "metadata": {
    "tags": []
   },
   "outputs": [],
   "source": [
    "from xgboost import XGBRegressor"
   ]
  },
  {
   "cell_type": "code",
   "execution_count": 171,
   "id": "e53725c3-4c15-4f8a-bb01-28de3150c080",
   "metadata": {
    "tags": []
   },
   "outputs": [],
   "source": [
    "xgb = XGBRegressor(random_state=11, n_estimators=100, learning_rate=0.1)"
   ]
  },
  {
   "cell_type": "code",
   "execution_count": 172,
   "id": "099caf66-f39b-4a65-9ffd-a450770f3052",
   "metadata": {
    "tags": []
   },
   "outputs": [
    {
     "data": {
      "text/html": [
       "<div>\n",
       "<style scoped>\n",
       "    .dataframe tbody tr th:only-of-type {\n",
       "        vertical-align: middle;\n",
       "    }\n",
       "\n",
       "    .dataframe tbody tr th {\n",
       "        vertical-align: top;\n",
       "    }\n",
       "\n",
       "    .dataframe thead th {\n",
       "        text-align: right;\n",
       "    }\n",
       "</style>\n",
       "<table border=\"1\" class=\"dataframe\">\n",
       "  <thead>\n",
       "    <tr style=\"text-align: right;\">\n",
       "      <th></th>\n",
       "      <th>Model</th>\n",
       "      <th>Regularization</th>\n",
       "      <th>Alpha_value</th>\n",
       "      <th>R2Score</th>\n",
       "      <th>Adjusted_R2Score</th>\n",
       "      <th>RMSE</th>\n",
       "      <th>R2Score_Test</th>\n",
       "      <th>Adjusted_R2Score_test</th>\n",
       "      <th>RMSE_Test</th>\n",
       "      <th>CrossVal_Mean(r2)</th>\n",
       "      <th>CrossVal1(r2)</th>\n",
       "      <th>CrossVal2(r2)</th>\n",
       "      <th>CrossVal3(r2)</th>\n",
       "      <th>CrossVal4(r2)</th>\n",
       "      <th>CrossVal5(r2)</th>\n",
       "    </tr>\n",
       "  </thead>\n",
       "  <tbody>\n",
       "    <tr>\n",
       "      <th>0</th>\n",
       "      <td>LinearRegression</td>\n",
       "      <td>NaN</td>\n",
       "      <td>NaN</td>\n",
       "      <td>0.144904</td>\n",
       "      <td>0.143573</td>\n",
       "      <td>520640.393543</td>\n",
       "      <td>0.163790</td>\n",
       "      <td>0.151919</td>\n",
       "      <td>526403.345606</td>\n",
       "      <td>0.141142</td>\n",
       "      <td>0.136744</td>\n",
       "      <td>0.149818</td>\n",
       "      <td>0.136663</td>\n",
       "      <td>0.135283</td>\n",
       "      <td>0.147203</td>\n",
       "    </tr>\n",
       "    <tr>\n",
       "      <th>0</th>\n",
       "      <td>knn</td>\n",
       "      <td>NaN</td>\n",
       "      <td>NaN</td>\n",
       "      <td>0.597741</td>\n",
       "      <td>0.597115</td>\n",
       "      <td>357094.570448</td>\n",
       "      <td>0.431489</td>\n",
       "      <td>0.423418</td>\n",
       "      <td>434040.631648</td>\n",
       "      <td>0.336612</td>\n",
       "      <td>0.355620</td>\n",
       "      <td>0.320673</td>\n",
       "      <td>0.346994</td>\n",
       "      <td>0.329209</td>\n",
       "      <td>0.330565</td>\n",
       "    </tr>\n",
       "    <tr>\n",
       "      <th>0</th>\n",
       "      <td>svr</td>\n",
       "      <td>NaN</td>\n",
       "      <td>NaN</td>\n",
       "      <td>0.597741</td>\n",
       "      <td>0.597115</td>\n",
       "      <td>357094.570448</td>\n",
       "      <td>0.431489</td>\n",
       "      <td>0.423418</td>\n",
       "      <td>434040.631648</td>\n",
       "      <td>0.336612</td>\n",
       "      <td>0.355620</td>\n",
       "      <td>0.320673</td>\n",
       "      <td>0.346994</td>\n",
       "      <td>0.329209</td>\n",
       "      <td>0.330565</td>\n",
       "    </tr>\n",
       "    <tr>\n",
       "      <th>0</th>\n",
       "      <td>svr</td>\n",
       "      <td>NaN</td>\n",
       "      <td>NaN</td>\n",
       "      <td>-0.024120</td>\n",
       "      <td>-0.025714</td>\n",
       "      <td>569778.175524</td>\n",
       "      <td>-0.015811</td>\n",
       "      <td>-0.030231</td>\n",
       "      <td>580186.165196</td>\n",
       "      <td>-0.024625</td>\n",
       "      <td>-0.025021</td>\n",
       "      <td>-0.026665</td>\n",
       "      <td>-0.035159</td>\n",
       "      <td>-0.013039</td>\n",
       "      <td>-0.023243</td>\n",
       "    </tr>\n",
       "    <tr>\n",
       "      <th>0</th>\n",
       "      <td>dt</td>\n",
       "      <td>NaN</td>\n",
       "      <td>NaN</td>\n",
       "      <td>1.000000</td>\n",
       "      <td>1.000000</td>\n",
       "      <td>0.000000</td>\n",
       "      <td>0.934419</td>\n",
       "      <td>0.933488</td>\n",
       "      <td>147417.484814</td>\n",
       "      <td>0.888770</td>\n",
       "      <td>0.877946</td>\n",
       "      <td>0.887477</td>\n",
       "      <td>0.890503</td>\n",
       "      <td>0.912159</td>\n",
       "      <td>0.875767</td>\n",
       "    </tr>\n",
       "    <tr>\n",
       "      <th>0</th>\n",
       "      <td>Random Forest</td>\n",
       "      <td>NaN</td>\n",
       "      <td>NaN</td>\n",
       "      <td>0.991681</td>\n",
       "      <td>0.991668</td>\n",
       "      <td>51353.300977</td>\n",
       "      <td>0.947861</td>\n",
       "      <td>0.947121</td>\n",
       "      <td>131443.934238</td>\n",
       "      <td>0.937520</td>\n",
       "      <td>0.927770</td>\n",
       "      <td>0.944543</td>\n",
       "      <td>0.940153</td>\n",
       "      <td>0.946177</td>\n",
       "      <td>0.928957</td>\n",
       "    </tr>\n",
       "    <tr>\n",
       "      <th>0</th>\n",
       "      <td>Adaboost</td>\n",
       "      <td>NaN</td>\n",
       "      <td>NaN</td>\n",
       "      <td>0.344794</td>\n",
       "      <td>0.343774</td>\n",
       "      <td>455742.221887</td>\n",
       "      <td>0.364316</td>\n",
       "      <td>0.355292</td>\n",
       "      <td>458966.951200</td>\n",
       "      <td>0.366691</td>\n",
       "      <td>0.363483</td>\n",
       "      <td>0.325682</td>\n",
       "      <td>0.445668</td>\n",
       "      <td>0.294202</td>\n",
       "      <td>0.404420</td>\n",
       "    </tr>\n",
       "    <tr>\n",
       "      <th>0</th>\n",
       "      <td>XGboost</td>\n",
       "      <td>NaN</td>\n",
       "      <td>NaN</td>\n",
       "      <td>0.980202</td>\n",
       "      <td>0.980171</td>\n",
       "      <td>79221.856013</td>\n",
       "      <td>0.970180</td>\n",
       "      <td>0.969757</td>\n",
       "      <td>99406.075684</td>\n",
       "      <td>0.956519</td>\n",
       "      <td>0.952408</td>\n",
       "      <td>0.965568</td>\n",
       "      <td>0.950050</td>\n",
       "      <td>0.966188</td>\n",
       "      <td>0.948379</td>\n",
       "    </tr>\n",
       "  </tbody>\n",
       "</table>\n",
       "</div>"
      ],
      "text/plain": [
       "              Model  Regularization  Alpha_value   R2Score  Adjusted_R2Score  \\\n",
       "0  LinearRegression             NaN          NaN  0.144904          0.143573   \n",
       "0               knn             NaN          NaN  0.597741          0.597115   \n",
       "0               svr             NaN          NaN  0.597741          0.597115   \n",
       "0               svr             NaN          NaN -0.024120         -0.025714   \n",
       "0                dt             NaN          NaN  1.000000          1.000000   \n",
       "0     Random Forest             NaN          NaN  0.991681          0.991668   \n",
       "0          Adaboost             NaN          NaN  0.344794          0.343774   \n",
       "0           XGboost             NaN          NaN  0.980202          0.980171   \n",
       "\n",
       "            RMSE  R2Score_Test  Adjusted_R2Score_test      RMSE_Test  \\\n",
       "0  520640.393543      0.163790               0.151919  526403.345606   \n",
       "0  357094.570448      0.431489               0.423418  434040.631648   \n",
       "0  357094.570448      0.431489               0.423418  434040.631648   \n",
       "0  569778.175524     -0.015811              -0.030231  580186.165196   \n",
       "0       0.000000      0.934419               0.933488  147417.484814   \n",
       "0   51353.300977      0.947861               0.947121  131443.934238   \n",
       "0  455742.221887      0.364316               0.355292  458966.951200   \n",
       "0   79221.856013      0.970180               0.969757   99406.075684   \n",
       "\n",
       "   CrossVal_Mean(r2)  CrossVal1(r2)  CrossVal2(r2)  CrossVal3(r2)  \\\n",
       "0           0.141142       0.136744       0.149818       0.136663   \n",
       "0           0.336612       0.355620       0.320673       0.346994   \n",
       "0           0.336612       0.355620       0.320673       0.346994   \n",
       "0          -0.024625      -0.025021      -0.026665      -0.035159   \n",
       "0           0.888770       0.877946       0.887477       0.890503   \n",
       "0           0.937520       0.927770       0.944543       0.940153   \n",
       "0           0.366691       0.363483       0.325682       0.445668   \n",
       "0           0.956519       0.952408       0.965568       0.950050   \n",
       "\n",
       "   CrossVal4(r2)  CrossVal5(r2)  \n",
       "0       0.135283       0.147203  \n",
       "0       0.329209       0.330565  \n",
       "0       0.329209       0.330565  \n",
       "0      -0.013039      -0.023243  \n",
       "0       0.912159       0.875767  \n",
       "0       0.946177       0.928957  \n",
       "0       0.294202       0.404420  \n",
       "0       0.966188       0.948379  "
      ]
     },
     "execution_count": 172,
     "metadata": {},
     "output_type": "execute_result"
    }
   ],
   "source": [
    "temp =store_results(\"XGboost\",  y_train,X_train, y_test,X_test,xgb, 5, np.nan, np.nan)\n",
    "\n",
    "outcomes = outcomes.append (temp)\n",
    "outcomes"
   ]
  },
  {
   "cell_type": "code",
   "execution_count": null,
   "id": "df37ec4f-ebfe-4b1a-8cbc-5e6bc4841a8d",
   "metadata": {
    "tags": []
   },
   "outputs": [],
   "source": [
    "#scaling data\n",
    "from sklearn.linear_model import LinearRegression\n",
    "from sklearn.metrics import mean_squared_error, r2_score\n",
    "import numpy as np\n",
    "\n",
    "model = LinearRegression()\n",
    "r2_scores = []\n",
    "rmse_scores = []\n",
    "\n",
    "for train_index, test_index in kf.split(X_scaled):\n",
    "    X_train, X_test = X_scaled[train_index], X_scaled[test_index]\n",
    "    y_train, y_test = y.iloc[train_index], y.iloc[test_index]\n",
    "    \n",
    "    model.fit(X_train, y_train)\n",
    "    y_pred = model.predict(X_test)\n",
    "    \n",
    "    r2_scores.append(r2_score(y_test, y_pred))\n",
    "    rmse_scores.append(np.sqrt(mean_squared_error(y_test, y_pred)))\n",
    "\n",
    "print(\"Linear Regression R²:\", np.mean(r2_scores))\n",
    "print(\"Linear Regression RMSE:\", np.mean(rmse_scores))"
   ]
  },
  {
   "cell_type": "code",
   "execution_count": null,
   "id": "f344aefa-2ed0-463b-bb95-5942b56b7f1c",
   "metadata": {},
   "outputs": [],
   "source": [
    "X.head()"
   ]
  },
  {
   "cell_type": "code",
   "execution_count": null,
   "id": "b07e1400-c066-4cde-bbec-a9caac8232a4",
   "metadata": {
    "tags": []
   },
   "outputs": [],
   "source": []
  },
  {
   "cell_type": "code",
   "execution_count": null,
   "id": "4edc348d-36be-4b56-8f4a-064c36450501",
   "metadata": {},
   "outputs": [],
   "source": [
    "model.rsqured, np.sqrt(model.mse_resid) # gives RMSE"
   ]
  },
  {
   "cell_type": "code",
   "execution_count": 174,
   "id": "55f70f57-f146-4903-a047-f1ca19097451",
   "metadata": {
    "tags": []
   },
   "outputs": [
    {
     "data": {
      "text/plain": [
       "Index(['Model', 'Regularization', 'Alpha_value', 'R2Score', 'Adjusted_R2Score',\n",
       "       'RMSE', 'R2Score_Test', 'Adjusted_R2Score_test', 'RMSE_Test',\n",
       "       'CrossVal_Mean(r2)', 'CrossVal1(r2)', 'CrossVal2(r2)', 'CrossVal3(r2)',\n",
       "       'CrossVal4(r2)', 'CrossVal5(r2)'],\n",
       "      dtype='object')"
      ]
     },
     "execution_count": 174,
     "metadata": {},
     "output_type": "execute_result"
    }
   ],
   "source": [
    "outcomes.columns"
   ]
  },
  {
   "cell_type": "markdown",
   "id": "8d73b543",
   "metadata": {},
   "source": [
    "# MODEL COMPARISON"
   ]
  },
  {
   "cell_type": "code",
   "execution_count": 176,
   "id": "2ef6fc33-a920-4afa-8eaa-d6ef9a10d895",
   "metadata": {
    "tags": []
   },
   "outputs": [
    {
     "data": {
      "text/html": [
       "<div>\n",
       "<style scoped>\n",
       "    .dataframe tbody tr th:only-of-type {\n",
       "        vertical-align: middle;\n",
       "    }\n",
       "\n",
       "    .dataframe tbody tr th {\n",
       "        vertical-align: top;\n",
       "    }\n",
       "\n",
       "    .dataframe thead th {\n",
       "        text-align: right;\n",
       "    }\n",
       "</style>\n",
       "<table border=\"1\" class=\"dataframe\">\n",
       "  <thead>\n",
       "    <tr style=\"text-align: right;\">\n",
       "      <th></th>\n",
       "      <th>Model</th>\n",
       "      <th>R2Score</th>\n",
       "      <th>Adjusted_R2Score</th>\n",
       "      <th>RMSE</th>\n",
       "      <th>R2Score_Test</th>\n",
       "      <th>Adjusted_R2Score_test</th>\n",
       "      <th>RMSE_Test</th>\n",
       "      <th>CrossVal_Mean(r2)</th>\n",
       "    </tr>\n",
       "  </thead>\n",
       "  <tbody>\n",
       "    <tr>\n",
       "      <th>0</th>\n",
       "      <td>XGboost</td>\n",
       "      <td>0.980202</td>\n",
       "      <td>0.980171</td>\n",
       "      <td>79221.856013</td>\n",
       "      <td>0.970180</td>\n",
       "      <td>0.969757</td>\n",
       "      <td>99406.075684</td>\n",
       "      <td>0.956519</td>\n",
       "    </tr>\n",
       "    <tr>\n",
       "      <th>0</th>\n",
       "      <td>Random Forest</td>\n",
       "      <td>0.991681</td>\n",
       "      <td>0.991668</td>\n",
       "      <td>51353.300977</td>\n",
       "      <td>0.947861</td>\n",
       "      <td>0.947121</td>\n",
       "      <td>131443.934238</td>\n",
       "      <td>0.937520</td>\n",
       "    </tr>\n",
       "    <tr>\n",
       "      <th>0</th>\n",
       "      <td>dt</td>\n",
       "      <td>1.000000</td>\n",
       "      <td>1.000000</td>\n",
       "      <td>0.000000</td>\n",
       "      <td>0.934419</td>\n",
       "      <td>0.933488</td>\n",
       "      <td>147417.484814</td>\n",
       "      <td>0.888770</td>\n",
       "    </tr>\n",
       "    <tr>\n",
       "      <th>0</th>\n",
       "      <td>knn</td>\n",
       "      <td>0.597741</td>\n",
       "      <td>0.597115</td>\n",
       "      <td>357094.570448</td>\n",
       "      <td>0.431489</td>\n",
       "      <td>0.423418</td>\n",
       "      <td>434040.631648</td>\n",
       "      <td>0.336612</td>\n",
       "    </tr>\n",
       "    <tr>\n",
       "      <th>0</th>\n",
       "      <td>svr</td>\n",
       "      <td>0.597741</td>\n",
       "      <td>0.597115</td>\n",
       "      <td>357094.570448</td>\n",
       "      <td>0.431489</td>\n",
       "      <td>0.423418</td>\n",
       "      <td>434040.631648</td>\n",
       "      <td>0.336612</td>\n",
       "    </tr>\n",
       "    <tr>\n",
       "      <th>0</th>\n",
       "      <td>Adaboost</td>\n",
       "      <td>0.344794</td>\n",
       "      <td>0.343774</td>\n",
       "      <td>455742.221887</td>\n",
       "      <td>0.364316</td>\n",
       "      <td>0.355292</td>\n",
       "      <td>458966.951200</td>\n",
       "      <td>0.366691</td>\n",
       "    </tr>\n",
       "    <tr>\n",
       "      <th>0</th>\n",
       "      <td>LinearRegression</td>\n",
       "      <td>0.144904</td>\n",
       "      <td>0.143573</td>\n",
       "      <td>520640.393543</td>\n",
       "      <td>0.163790</td>\n",
       "      <td>0.151919</td>\n",
       "      <td>526403.345606</td>\n",
       "      <td>0.141142</td>\n",
       "    </tr>\n",
       "    <tr>\n",
       "      <th>0</th>\n",
       "      <td>svr</td>\n",
       "      <td>-0.024120</td>\n",
       "      <td>-0.025714</td>\n",
       "      <td>569778.175524</td>\n",
       "      <td>-0.015811</td>\n",
       "      <td>-0.030231</td>\n",
       "      <td>580186.165196</td>\n",
       "      <td>-0.024625</td>\n",
       "    </tr>\n",
       "  </tbody>\n",
       "</table>\n",
       "</div>"
      ],
      "text/plain": [
       "              Model   R2Score  Adjusted_R2Score           RMSE  R2Score_Test  \\\n",
       "0           XGboost  0.980202          0.980171   79221.856013      0.970180   \n",
       "0     Random Forest  0.991681          0.991668   51353.300977      0.947861   \n",
       "0                dt  1.000000          1.000000       0.000000      0.934419   \n",
       "0               knn  0.597741          0.597115  357094.570448      0.431489   \n",
       "0               svr  0.597741          0.597115  357094.570448      0.431489   \n",
       "0          Adaboost  0.344794          0.343774  455742.221887      0.364316   \n",
       "0  LinearRegression  0.144904          0.143573  520640.393543      0.163790   \n",
       "0               svr -0.024120         -0.025714  569778.175524     -0.015811   \n",
       "\n",
       "   Adjusted_R2Score_test      RMSE_Test  CrossVal_Mean(r2)  \n",
       "0               0.969757   99406.075684           0.956519  \n",
       "0               0.947121  131443.934238           0.937520  \n",
       "0               0.933488  147417.484814           0.888770  \n",
       "0               0.423418  434040.631648           0.336612  \n",
       "0               0.423418  434040.631648           0.336612  \n",
       "0               0.355292  458966.951200           0.366691  \n",
       "0               0.151919  526403.345606           0.141142  \n",
       "0              -0.030231  580186.165196          -0.024625  "
      ]
     },
     "execution_count": 176,
     "metadata": {},
     "output_type": "execute_result"
    }
   ],
   "source": [
    "outcomes[['Model',  'R2Score', 'Adjusted_R2Score',\n",
    "       'RMSE', 'R2Score_Test', 'Adjusted_R2Score_test', 'RMSE_Test',\n",
    "       'CrossVal_Mean(r2)']].sort_values(by='Adjusted_R2Score_test',ascending=False)"
   ]
  },
  {
   "cell_type": "code",
   "execution_count": null,
   "id": "ad7f99c6-080b-4252-aef8-22deed0b05fb",
   "metadata": {},
   "outputs": [],
   "source": []
  }
 ],
 "metadata": {
  "kernelspec": {
   "display_name": "Python 3 (ipykernel)",
   "language": "python",
   "name": "python3"
  },
  "language_info": {
   "codemirror_mode": {
    "name": "ipython",
    "version": 3
   },
   "file_extension": ".py",
   "mimetype": "text/x-python",
   "name": "python",
   "nbconvert_exporter": "python",
   "pygments_lexer": "ipython3",
   "version": "3.11.3"
  }
 },
 "nbformat": 4,
 "nbformat_minor": 5
}
